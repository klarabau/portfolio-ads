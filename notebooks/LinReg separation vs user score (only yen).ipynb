{
 "cells": [
  {
   "cell_type": "markdown",
   "metadata": {},
   "source": [
    "# Input\n",
    "After creating the first Linear Regression model with the feature \"count\", I created this Linear Regression model with the feature \"separation\". The model and feature were chosen rather randomly to gain first insights into how a model for this dataset works and to get familiar with the data."
   ]
  },
  {
   "cell_type": "code",
   "execution_count": 2,
   "metadata": {},
   "outputs": [],
   "source": [
    "# Importing libraries \n",
    "import pandas as pd\n",
    "import matplotlib.pyplot as plt\n",
    "import numpy as np\n",
    "from ml import *\n",
    "from sklearn.preprocessing import PolynomialFeatures"
   ]
  },
  {
   "cell_type": "code",
   "execution_count": 3,
   "metadata": {},
   "outputs": [],
   "source": [
    "# Creating dataframe \n",
    "df = pd.read_csv('/datc/nano/notebooks/Target variable & Features (V3).csv')"
   ]
  },
  {
   "cell_type": "code",
   "execution_count": 4,
   "metadata": {},
   "outputs": [
    {
     "data": {
      "text/html": [
       "<div>\n",
       "<style scoped>\n",
       "    .dataframe tbody tr th:only-of-type {\n",
       "        vertical-align: middle;\n",
       "    }\n",
       "\n",
       "    .dataframe tbody tr th {\n",
       "        vertical-align: top;\n",
       "    }\n",
       "\n",
       "    .dataframe thead th {\n",
       "        text-align: right;\n",
       "    }\n",
       "</style>\n",
       "<table border=\"1\" class=\"dataframe\">\n",
       "  <thead>\n",
       "    <tr style=\"text-align: right;\">\n",
       "      <th></th>\n",
       "      <th>Id</th>\n",
       "      <th>Threshold method</th>\n",
       "      <th>Threshold: area spread</th>\n",
       "      <th>Threshold: border</th>\n",
       "      <th>Threshold: count</th>\n",
       "      <th>Threshold: fill</th>\n",
       "      <th>Threshold: intensity</th>\n",
       "      <th>Threshold: separation</th>\n",
       "      <th>User score</th>\n",
       "    </tr>\n",
       "  </thead>\n",
       "  <tbody>\n",
       "    <tr>\n",
       "      <th>0</th>\n",
       "      <td>5f11480a2d99b96663b97fdb</td>\n",
       "      <td>yen</td>\n",
       "      <td>0.265214</td>\n",
       "      <td>1.866963</td>\n",
       "      <td>13.192785</td>\n",
       "      <td>0.215541</td>\n",
       "      <td>1.711409</td>\n",
       "      <td>0.106493</td>\n",
       "      <td>9</td>\n",
       "    </tr>\n",
       "    <tr>\n",
       "      <th>1</th>\n",
       "      <td>5f114900aaefef07a94bb159</td>\n",
       "      <td>minimum</td>\n",
       "      <td>0.601553</td>\n",
       "      <td>1.119458</td>\n",
       "      <td>91.000000</td>\n",
       "      <td>0.541977</td>\n",
       "      <td>1.062500</td>\n",
       "      <td>0.018770</td>\n",
       "      <td>1</td>\n",
       "    </tr>\n",
       "    <tr>\n",
       "      <th>2</th>\n",
       "      <td>5f15419a79e27502789bbbd1</td>\n",
       "      <td>yen</td>\n",
       "      <td>0.154306</td>\n",
       "      <td>5.648380</td>\n",
       "      <td>0.010033</td>\n",
       "      <td>0.184900</td>\n",
       "      <td>4.396552</td>\n",
       "      <td>0.355659</td>\n",
       "      <td>4</td>\n",
       "    </tr>\n",
       "    <tr>\n",
       "      <th>3</th>\n",
       "      <td>5f27c1cced3aa3f0c260b246</td>\n",
       "      <td>yen</td>\n",
       "      <td>0.012426</td>\n",
       "      <td>1.814439</td>\n",
       "      <td>2.246626</td>\n",
       "      <td>0.184488</td>\n",
       "      <td>1.734694</td>\n",
       "      <td>0.139754</td>\n",
       "      <td>1</td>\n",
       "    </tr>\n",
       "    <tr>\n",
       "      <th>4</th>\n",
       "      <td>5f30f7b9ed3aa3f0c260b563</td>\n",
       "      <td>yen</td>\n",
       "      <td>0.408562</td>\n",
       "      <td>4.563709</td>\n",
       "      <td>0.019553</td>\n",
       "      <td>0.220224</td>\n",
       "      <td>2.833333</td>\n",
       "      <td>0.162283</td>\n",
       "      <td>2</td>\n",
       "    </tr>\n",
       "    <tr>\n",
       "      <th>...</th>\n",
       "      <td>...</td>\n",
       "      <td>...</td>\n",
       "      <td>...</td>\n",
       "      <td>...</td>\n",
       "      <td>...</td>\n",
       "      <td>...</td>\n",
       "      <td>...</td>\n",
       "      <td>...</td>\n",
       "      <td>...</td>\n",
       "    </tr>\n",
       "    <tr>\n",
       "      <th>122</th>\n",
       "      <td>5f4cb8cd298cf94b214ea475</td>\n",
       "      <td>li</td>\n",
       "      <td>0.014776</td>\n",
       "      <td>5.130997</td>\n",
       "      <td>2.988934</td>\n",
       "      <td>0.153259</td>\n",
       "      <td>4.250000</td>\n",
       "      <td>0.053390</td>\n",
       "      <td>3</td>\n",
       "    </tr>\n",
       "    <tr>\n",
       "      <th>123</th>\n",
       "      <td>5f4cb8f7298cf94b214ea4e7</td>\n",
       "      <td>yen</td>\n",
       "      <td>0.800244</td>\n",
       "      <td>1.757421</td>\n",
       "      <td>9.000000</td>\n",
       "      <td>1.000000</td>\n",
       "      <td>2.431401</td>\n",
       "      <td>0.082923</td>\n",
       "      <td>2</td>\n",
       "    </tr>\n",
       "    <tr>\n",
       "      <th>124</th>\n",
       "      <td>5f4cb91f298cf94b214ea55f</td>\n",
       "      <td>triangle</td>\n",
       "      <td>1.184838</td>\n",
       "      <td>2.893748</td>\n",
       "      <td>67.500000</td>\n",
       "      <td>0.588592</td>\n",
       "      <td>5.375511</td>\n",
       "      <td>0.067293</td>\n",
       "      <td>5</td>\n",
       "    </tr>\n",
       "    <tr>\n",
       "      <th>125</th>\n",
       "      <td>5f4cb933298cf94b214ea586</td>\n",
       "      <td>yen</td>\n",
       "      <td>0.079468</td>\n",
       "      <td>10.559311</td>\n",
       "      <td>2.823232</td>\n",
       "      <td>0.197917</td>\n",
       "      <td>7.083333</td>\n",
       "      <td>0.433293</td>\n",
       "      <td>5</td>\n",
       "    </tr>\n",
       "    <tr>\n",
       "      <th>126</th>\n",
       "      <td>5f4cb94d298cf94b214ea5d5</td>\n",
       "      <td>li</td>\n",
       "      <td>0.826347</td>\n",
       "      <td>5.753698</td>\n",
       "      <td>3.506667</td>\n",
       "      <td>0.238109</td>\n",
       "      <td>3.984375</td>\n",
       "      <td>0.363274</td>\n",
       "      <td>8</td>\n",
       "    </tr>\n",
       "  </tbody>\n",
       "</table>\n",
       "<p>127 rows × 9 columns</p>\n",
       "</div>"
      ],
      "text/plain": [
       "                           Id Threshold method  Threshold: area spread  \\\n",
       "0    5f11480a2d99b96663b97fdb              yen                0.265214   \n",
       "1    5f114900aaefef07a94bb159          minimum                0.601553   \n",
       "2    5f15419a79e27502789bbbd1              yen                0.154306   \n",
       "3    5f27c1cced3aa3f0c260b246              yen                0.012426   \n",
       "4    5f30f7b9ed3aa3f0c260b563              yen                0.408562   \n",
       "..                        ...              ...                     ...   \n",
       "122  5f4cb8cd298cf94b214ea475               li                0.014776   \n",
       "123  5f4cb8f7298cf94b214ea4e7              yen                0.800244   \n",
       "124  5f4cb91f298cf94b214ea55f         triangle                1.184838   \n",
       "125  5f4cb933298cf94b214ea586              yen                0.079468   \n",
       "126  5f4cb94d298cf94b214ea5d5               li                0.826347   \n",
       "\n",
       "     Threshold: border  Threshold: count  Threshold: fill  \\\n",
       "0             1.866963         13.192785         0.215541   \n",
       "1             1.119458         91.000000         0.541977   \n",
       "2             5.648380          0.010033         0.184900   \n",
       "3             1.814439          2.246626         0.184488   \n",
       "4             4.563709          0.019553         0.220224   \n",
       "..                 ...               ...              ...   \n",
       "122           5.130997          2.988934         0.153259   \n",
       "123           1.757421          9.000000         1.000000   \n",
       "124           2.893748         67.500000         0.588592   \n",
       "125          10.559311          2.823232         0.197917   \n",
       "126           5.753698          3.506667         0.238109   \n",
       "\n",
       "     Threshold: intensity  Threshold: separation  User score  \n",
       "0                1.711409               0.106493           9  \n",
       "1                1.062500               0.018770           1  \n",
       "2                4.396552               0.355659           4  \n",
       "3                1.734694               0.139754           1  \n",
       "4                2.833333               0.162283           2  \n",
       "..                    ...                    ...         ...  \n",
       "122              4.250000               0.053390           3  \n",
       "123              2.431401               0.082923           2  \n",
       "124              5.375511               0.067293           5  \n",
       "125              7.083333               0.433293           5  \n",
       "126              3.984375               0.363274           8  \n",
       "\n",
       "[127 rows x 9 columns]"
      ]
     },
     "execution_count": 4,
     "metadata": {},
     "output_type": "execute_result"
    }
   ],
   "source": [
    "# Extract only yen values\n",
    "df_yen = df[df['Threshold method'] =='yen']\n",
    "df"
   ]
  },
  {
   "cell_type": "code",
   "execution_count": 5,
   "metadata": {},
   "outputs": [],
   "source": [
    "# Specifying x and y\n",
    "X = df_yen[['Threshold: separation']]\n",
    "y = df_yen[['User score']]"
   ]
  },
  {
   "cell_type": "code",
   "execution_count": 6,
   "metadata": {},
   "outputs": [
    {
     "data": {
      "image/png": "[encoded data removed]",
      "text/plain": [
       "<Figure size 432x288 with 1 Axes>"
      ]
     },
     "metadata": {
      "needs_background": "light"
     },
     "output_type": "display_data"
    }
   ],
   "source": [
    "# Plotting data\n",
    "df_yen.plot(kind='scatter', x='Threshold: separation', y='User score', title='User score vs. separation of particles')\n",
    "plt.show()"
   ]
  },
  {
   "cell_type": "code",
   "execution_count": 7,
   "metadata": {},
   "outputs": [
    {
     "data": {
      "text/plain": [
       "array([[4.64947548],\n",
       "       [7.5381638 ],\n",
       "       [5.03508423],\n",
       "       [5.2962759 ],\n",
       "       [4.93098214],\n",
       "       [4.64947548],\n",
       "       [4.64632592],\n",
       "       [4.94997779],\n",
       "       [6.9514046 ],\n",
       "       [4.36787605],\n",
       "       [3.89030873],\n",
       "       [4.64947548],\n",
       "       [4.02221429],\n",
       "       [5.64392435],\n",
       "       [4.54621002],\n",
       "       [3.96264382],\n",
       "       [6.23213428],\n",
       "       [4.54888178],\n",
       "       [5.646443  ],\n",
       "       [5.60690974],\n",
       "       [6.71456788],\n",
       "       [7.03938636],\n",
       "       [6.94134187],\n",
       "       [6.29949578],\n",
       "       [5.36385498],\n",
       "       [5.65392583],\n",
       "       [6.12954531],\n",
       "       [5.65392583],\n",
       "       [4.54621002],\n",
       "       [4.54621002],\n",
       "       [4.84563954],\n",
       "       [4.51966308],\n",
       "       [4.91492758],\n",
       "       [4.88868642],\n",
       "       [5.5710042 ],\n",
       "       [5.54748598],\n",
       "       [5.60240293],\n",
       "       [5.84451429],\n",
       "       [5.50279457],\n",
       "       [7.6546204 ],\n",
       "       [6.1284686 ],\n",
       "       [4.06165495],\n",
       "       [6.49945392],\n",
       "       [4.97393177],\n",
       "       [6.94309251],\n",
       "       [5.21364842],\n",
       "       [6.78680079],\n",
       "       [4.63474252],\n",
       "       [7.55618061],\n",
       "       [5.0144705 ],\n",
       "       [3.67264354],\n",
       "       [8.22760374],\n",
       "       [3.64193369],\n",
       "       [4.27896463],\n",
       "       [6.11536674],\n",
       "       [4.89222869],\n",
       "       [4.37622089],\n",
       "       [8.43820373]])"
      ]
     },
     "execution_count": 7,
     "metadata": {},
     "output_type": "execute_result"
    }
   ],
   "source": [
    "# Creating model\n",
    "model = LinearRegression()\n",
    "model.fit(X, y)\n",
    "\n",
    "model.predict(X)"
   ]
  },
  {
   "cell_type": "code",
   "execution_count": 25,
   "metadata": {},
   "outputs": [
    {
     "data": {
      "image/png": "[encoded data removed]",
      "text/plain": [
       "<Figure size 432x288 with 1 Axes>"
      ]
     },
     "metadata": {
      "needs_background": "light"
     },
     "output_type": "display_data"
    }
   ],
   "source": [
    "# Visualizing model\n",
    "df_yen.plot(kind='scatter', x='Threshold: separation', y='User score', title='User score vs. separation of particles')\n",
    "plt.scatter(X, model.predict(X), c='orange')\n",
    "plt.show()"
   ]
  },
  {
   "cell_type": "code",
   "execution_count": 26,
   "metadata": {},
   "outputs": [],
   "source": [
    "# Creating 2nd order\n",
    "poly = PolynomialFeatures(degree=2, include_bias=False)\n",
    "X2 = poly.fit_transform(X)"
   ]
  },
  {
   "cell_type": "code",
   "execution_count": 27,
   "metadata": {},
   "outputs": [
    {
     "data": {
      "text/plain": [
       "LinearRegression()"
      ]
     },
     "execution_count": 27,
     "metadata": {},
     "output_type": "execute_result"
    }
   ],
   "source": [
    "# Creating 2nd order model\n",
    "model = LinearRegression()\n",
    "model.fit(X2, y)"
   ]
  },
  {
   "cell_type": "code",
   "execution_count": 28,
   "metadata": {},
   "outputs": [
    {
     "data": {
      "image/png": "[encoded data removed]",
      "text/plain": [
       "<Figure size 432x288 with 1 Axes>"
      ]
     },
     "metadata": {
      "needs_background": "light"
     },
     "output_type": "display_data"
    }
   ],
   "source": [
    "# Visualizing 2nd order model\n",
    "df_yen.plot(kind='scatter', x='Threshold: separation', y='User score', title='User score vs. separation of particles')\n",
    "plt.scatter(X, model.predict(X2), c='orange')\n",
    "plt.show()"
   ]
  },
  {
   "cell_type": "code",
   "execution_count": 29,
   "metadata": {},
   "outputs": [],
   "source": [
    "# Creating 3rd order\n",
    "poly = PolynomialFeatures(degree=3, include_bias=False)\n",
    "X3 = poly.fit_transform(X)"
   ]
  },
  {
   "cell_type": "code",
   "execution_count": 30,
   "metadata": {},
   "outputs": [
    {
     "data": {
      "text/plain": [
       "LinearRegression()"
      ]
     },
     "execution_count": 30,
     "metadata": {},
     "output_type": "execute_result"
    }
   ],
   "source": [
    "# Creating 2nd order model\n",
    "model = LinearRegression()\n",
    "model.fit(X3, y)"
   ]
  },
  {
   "cell_type": "code",
   "execution_count": 31,
   "metadata": {},
   "outputs": [
    {
     "data": {
      "image/png": "[encoded data removed]",
      "text/plain": [
       "<Figure size 432x288 with 1 Axes>"
      ]
     },
     "metadata": {
      "needs_background": "light"
     },
     "output_type": "display_data"
    }
   ],
   "source": [
    "# Visualizing 3rd order model\n",
    "df_yen.plot(kind='scatter', x='Threshold: separation', y='User score', title='User score vs. separation of particles')\n",
    "plt.scatter(X, model.predict(X3), c='orange')\n",
    "plt.show()"
   ]
  },
  {
   "cell_type": "code",
   "execution_count": 32,
   "metadata": {},
   "outputs": [],
   "source": [
    "# Creating 4th order\n",
    "poly = PolynomialFeatures(degree=4, include_bias=False)\n",
    "X4 = poly.fit_transform(X)"
   ]
  },
  {
   "cell_type": "code",
   "execution_count": 33,
   "metadata": {},
   "outputs": [
    {
     "data": {
      "text/plain": [
       "LinearRegression()"
      ]
     },
     "execution_count": 33,
     "metadata": {},
     "output_type": "execute_result"
    }
   ],
   "source": [
    "# Creating 4th order model\n",
    "model = LinearRegression()\n",
    "model.fit(X4, y)"
   ]
  },
  {
   "cell_type": "code",
   "execution_count": 34,
   "metadata": {},
   "outputs": [
    {
     "data": {
      "image/png": "[encoded data removed]",
      "text/plain": [
       "<Figure size 432x288 with 1 Axes>"
      ]
     },
     "metadata": {
      "needs_background": "light"
     },
     "output_type": "display_data"
    }
   ],
   "source": [
    "# Visualizing 4th order model\n",
    "df_yen.plot(kind='scatter', x='Threshold: separation', y='User score', title='User score vs. separation of particles')\n",
    "plt.scatter(X, model.predict(X4), c='orange')\n",
    "plt.show()"
   ]
  },
  {
   "cell_type": "code",
   "execution_count": 35,
   "metadata": {},
   "outputs": [
    {
     "data": {
      "text/plain": [
       "array([[  103.11548475,  -719.71226851,  2393.35768129, -2817.98228304]])"
      ]
     },
     "execution_count": 35,
     "metadata": {},
     "output_type": "execute_result"
    }
   ],
   "source": [
    "model.coef_"
   ]
  },
  {
   "cell_type": "code",
   "execution_count": 18,
   "metadata": {},
   "outputs": [
    {
     "data": {
      "text/plain": [
       "array([-0.46576066])"
      ]
     },
     "execution_count": 18,
     "metadata": {},
     "output_type": "execute_result"
    }
   ],
   "source": [
    "model.intercept_"
   ]
  },
  {
   "cell_type": "code",
   "execution_count": 19,
   "metadata": {},
   "outputs": [
    {
     "data": {
      "text/plain": [
       "User score    5.3125\n",
       "dtype: float64"
      ]
     },
     "execution_count": 19,
     "metadata": {},
     "output_type": "execute_result"
    }
   ],
   "source": [
    "y.sum()/len(y)"
   ]
  }
 ],
 "metadata": {
  "kernelspec": {
   "display_name": "Python 3",
   "language": "python",
   "name": "python3"
  },
  "language_info": {
   "codemirror_mode": {
    "name": "ipython",
    "version": 3
   },
   "file_extension": ".py",
   "mimetype": "text/x-python",
   "name": "python",
   "nbconvert_exporter": "python",
   "pygments_lexer": "ipython3",
   "version": "3.6.10"
  }
 },
 "nbformat": 4,
 "nbformat_minor": 4
}
