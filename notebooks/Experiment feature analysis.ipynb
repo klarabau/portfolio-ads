{
 "cells": [
  {
   "cell_type": "markdown",
   "metadata": {},
   "source": [
    "# Input\n",
    "\n",
    "This visualization analyses the experiment where we compared each model, balancing method, number of classes and feature combinations. It counts the number of occurences of each feature combination in the top X scores and should give a general idea of which features are valuable to us."
   ]
  },
  {
   "cell_type": "code",
   "execution_count": 1,
   "metadata": {
    "code_folding": []
   },
   "outputs": [],
   "source": [
    "# Importing libraries \n",
    "\n",
    "import pandas as pd\n",
    "import matplotlib.pyplot as plt\n",
    "import numpy as np\n",
    "from itertools import chain"
   ]
  },
  {
   "cell_type": "code",
   "execution_count": 2,
   "metadata": {
    "code_folding": []
   },
   "outputs": [],
   "source": [
    "# Generate the Dictionary containing all the dataframes\n",
    "\n",
    "models = ['Decision_Tree', 'Logistic_Regression', 'MLP_Classifier', 'Random_Forest_Classifier']\n",
    "methods = ['Cluster-based_Oversampling_SMOTE', 'No-balancing', 'Random-oversampling', 'SMOTE']\n",
    "\n",
    "PATH = '/datc/nano/notebooks/Results/DataFrames/Mean error/'\n",
    "\n",
    "# Init dict\n",
    "df_dict = {}\n",
    "\n",
    "for model in models:\n",
    "    for method in methods:\n",
    "        # Import Dataframe\n",
    "        df = pd.read_csv(PATH + f'{model}-{method}.csv', index_col= ('score_type', 'features_used'))\n",
    "        \n",
    "        # Save Dataframe to dict\n",
    "        if model in df_dict:\n",
    "            df_dict[model][method] = df\n",
    "        else:\n",
    "            df_dict[model]={method: df}\n",
    "            "
   ]
  },
  {
   "cell_type": "code",
   "execution_count": 3,
   "metadata": {
    "code_folding": []
   },
   "outputs": [],
   "source": [
    "# Extract highest scoring features for all models and methods\n",
    "\n",
    "models = ['Decision_Tree', 'Logistic_Regression', 'MLP_Classifier', 'Random_Forest_Classifier']\n",
    "methods = ['Cluster-based_Oversampling_SMOTE', 'No-balancing', 'Random-oversampling', 'SMOTE']\n",
    "score = 'accuracy'\n",
    "sortby = 'n_classes=3'\n",
    "\n",
    "# Init list\n",
    "highest_features = []\n",
    "\n",
    "# Make complete list\n",
    "for model in models:\n",
    "    for method in methods:\n",
    "        \n",
    "        values = df_dict[model][method].loc[score].sort_values(sortby).tail(5).index.tolist()\n",
    "        highest_features.append(values)\n",
    "\n",
    "# Unnest list to be able to count the values\n",
    "highest_features = list(chain.from_iterable(highest_features))\n",
    "\n",
    "# Count values and create dict\n",
    "highest_features_count = {i: highest_features.count(i) for i in highest_features}"
   ]
  },
  {
   "cell_type": "code",
   "execution_count": 4,
   "metadata": {
    "scrolled": false
   },
   "outputs": [
    {
     "data": {
      "image/png": "[encoded data removed]",
      "text/plain": [
       "<Figure size 1080x576 with 1 Axes>"
      ]
     },
     "metadata": {
      "needs_background": "light"
     },
     "output_type": "display_data"
    }
   ],
   "source": [
    "# Sort data\n",
    "data_plot = [(y, x) for y, x in zip(highest_features_count.values(), highest_features_count.keys())]\n",
    "data_plot.sort()\n",
    "y, x = zip(*data_plot)\n",
    "\n",
    "# Plot\n",
    "plt.figure(figsize=(15,8))\n",
    "plt.bar(x,y)\n",
    "plt.xticks(rotation=90)\n",
    "plt.grid(True, axis= 'y')\n",
    "plt.title('Occurences of highest scoring features throughout the experiment')\n",
    "plt.xlabel('Features')\n",
    "plt.ylabel('Occurences in top 5 '+score+' scores')\n",
    "plt.show()"
   ]
  },
  {
   "cell_type": "markdown",
   "metadata": {},
   "source": [
    "# Evaluation\n",
    "\n",
    "For 3 classes (f1 score), as is 11/16 times in Top 5, 10/16 times in top 2, and 6/16 times selected as the best feature combination. This is drastically different for 2, 4 or 5 classes"
   ]
  },
  {
   "cell_type": "markdown",
   "metadata": {},
   "source": [
    "# Output\n",
    "\n",
    "This visualization gave a good first indication of which features are generally important and helped us move on to a more complicated, ranked visualization of feature combinations (made by Oscar)."
   ]
  },
  {
   "cell_type": "code",
   "execution_count": null,
   "metadata": {},
   "outputs": [],
   "source": []
  }
 ],
 "metadata": {
  "kernelspec": {
   "display_name": "Python 3",
   "language": "python",
   "name": "python3"
  },
  "language_info": {
   "codemirror_mode": {
    "name": "ipython",
    "version": 3
   },
   "file_extension": ".py",
   "mimetype": "text/x-python",
   "name": "python",
   "nbconvert_exporter": "python",
   "pygments_lexer": "ipython3",
   "version": "3.6.10"
  }
 },
 "nbformat": 4,
 "nbformat_minor": 4
}
