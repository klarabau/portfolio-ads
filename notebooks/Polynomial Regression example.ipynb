{
 "cells": [
  {
   "cell_type": "markdown",
   "metadata": {},
   "source": [
    "# Input\n",
    "\n",
    "After our problem owner suggested to look into a polynomial regression model again as it ranks the predictions which can be useful in our case we briefly looked into it. The past model did not give promising results, but there were mistakes in the file (no cross-validation) and we wanted to look into it further. Therefore, I created this small example on polynomial regression to see if it could be useful for us."
   ]
  },
  {
   "cell_type": "code",
   "execution_count": 13,
   "metadata": {
    "code_folding": []
   },
   "outputs": [],
   "source": [
    "# Importing libraries \n",
    "import pandas as pd\n",
    "import matplotlib.pyplot as plt\n",
    "import numpy as np\n",
    "from sklearn.model_selection import train_test_split\n",
    "from sklearn.linear_model import LinearRegression\n",
    "from sklearn.preprocessing import StandardScaler, PowerTransformer, PolynomialFeatures\n",
    "from sklearn.metrics import mean_squared_error \n",
    "from sklearn.model_selection import cross_val_score\n",
    "from sklearn.model_selection import KFold\n",
    "from itertools import chain\n",
    "\n",
    "pd.options.mode.chained_assignment = None"
   ]
  },
  {
   "cell_type": "code",
   "execution_count": 14,
   "metadata": {
    "code_folding": []
   },
   "outputs": [],
   "source": [
    "# CHANGE HERE\n",
    "n_classes = 5\n",
    "deg = 2\n",
    "scaler = StandardScaler()"
   ]
  },
  {
   "cell_type": "code",
   "execution_count": 15,
   "metadata": {
    "code_folding": [
     0
    ]
   },
   "outputs": [],
   "source": [
    "# Create df \n",
    "df = pd.read_csv('/datc/nano/notebooks/Target variable & Features (V3).csv', index_col = 0)\n",
    "\n",
    "# Creating dataframe with only yen values\n",
    "df_yen = df[df['Threshold method'] =='yen']"
   ]
  },
  {
   "cell_type": "code",
   "execution_count": 32,
   "metadata": {
    "code_folding": [
     3
    ]
   },
   "outputs": [
    {
     "name": "stdout",
     "output_type": "stream",
     "text": [
      "2.8747454081177612\n"
     ]
    }
   ],
   "source": [
    "# MODEL EXPERIMENT\n",
    "\n",
    "# Classes (function from Oscar)\n",
    "def split_classes(n_classes):\n",
    "    class_labels = []\n",
    "    current_classes = np.sort(df_yen['User score'].unique()) \n",
    "    split = np.array_split(current_classes, n_classes) \n",
    "\n",
    "    for row in df_yen.iterrows(): \n",
    "        for label, class_ranges in enumerate(split): \n",
    "            if(row[1]['User score'] in class_ranges): \n",
    "                class_labels.append(label) \n",
    "    return class_labels \n",
    "\n",
    "# Create df \n",
    "df_yen['Class'] = split_classes(n_classes)\n",
    "df_yen.head()\n",
    "\n",
    "# Creating x and y\n",
    "#x = df_yen[['Threshold: separation', 'Threshold: border' , 'Threshold: area spread', 'Threshold: fill', 'Threshold: count', 'Threshold: intensity']]\n",
    "x = df_yen[['Threshold: separation', 'Threshold: border']]\n",
    "if n_classes == 10:\n",
    "    y = df_yen[['User score']]\n",
    "else:\n",
    "    y = df_yen[['Class']]\n",
    "    \n",
    "# Scaler\n",
    "x_array = scaler.fit_transform(x)\n",
    "x = pd.DataFrame(x_array, index=x.index, columns=x.columns)\n",
    "\n",
    "# Cross validation\n",
    "mse_list = []\n",
    "kf = KFold(n_splits=3, random_state=42, shuffle=True)\n",
    "for train_ind, valid_ind in kf.split(x):\n",
    "    x_train = x.iloc[train_ind].to_numpy()\n",
    "    x_test = x.iloc[valid_ind].to_numpy()\n",
    "    y_train = y.iloc[train_ind].to_numpy()\n",
    "    y_test = y.iloc[valid_ind].to_numpy()\n",
    "\n",
    "    # Polynomial\n",
    "    poly = PolynomialFeatures(degree=deg, include_bias=False)\n",
    "    xp_train = poly.fit_transform(x_train)\n",
    "    xp_test = poly.transform(x_test)\n",
    "\n",
    "    # Model\n",
    "    model = LinearRegression()\n",
    "    model.fit(xp_train, y_train)\n",
    "    y_pred = model.predict(xp_test)\n",
    "\n",
    "    # Unnest\n",
    "    y_pred = list(chain.from_iterable(y_pred))\n",
    "    y_test = list(chain.from_iterable(y_test))\n",
    "    \n",
    "    # Calculate mse\n",
    "    mse = mean_squared_error(y_test, y_pred)\n",
    "    mse_list.append(mse)\n",
    "\n",
    "# Mean MSE\n",
    "mse_mean = sum(mse_list)/len(mse_list)\n",
    "print(mse_mean)"
   ]
  },
  {
   "cell_type": "code",
   "execution_count": 5,
   "metadata": {
    "code_folding": [
     3,
     22
    ],
    "scrolled": false
   },
   "outputs": [
    {
     "data": {
      "text/html": [
       "<style  type=\"text/css\" >\n",
       "#T_e8fd55a4_3fa2_11eb_aa8f_000af7b6a54frow0_col0,#T_e8fd55a4_3fa2_11eb_aa8f_000af7b6a54frow0_col1,#T_e8fd55a4_3fa2_11eb_aa8f_000af7b6a54frow4_col0,#T_e8fd55a4_3fa2_11eb_aa8f_000af7b6a54frow4_col1,#T_e8fd55a4_3fa2_11eb_aa8f_000af7b6a54frow18_col0,#T_e8fd55a4_3fa2_11eb_aa8f_000af7b6a54frow18_col1{\n",
       "            background:  red;\n",
       "        }#T_e8fd55a4_3fa2_11eb_aa8f_000af7b6a54frow1_col0,#T_e8fd55a4_3fa2_11eb_aa8f_000af7b6a54frow1_col1,#T_e8fd55a4_3fa2_11eb_aa8f_000af7b6a54frow2_col0,#T_e8fd55a4_3fa2_11eb_aa8f_000af7b6a54frow2_col1,#T_e8fd55a4_3fa2_11eb_aa8f_000af7b6a54frow3_col0,#T_e8fd55a4_3fa2_11eb_aa8f_000af7b6a54frow3_col1,#T_e8fd55a4_3fa2_11eb_aa8f_000af7b6a54frow11_col0,#T_e8fd55a4_3fa2_11eb_aa8f_000af7b6a54frow11_col1,#T_e8fd55a4_3fa2_11eb_aa8f_000af7b6a54frow12_col0,#T_e8fd55a4_3fa2_11eb_aa8f_000af7b6a54frow12_col1,#T_e8fd55a4_3fa2_11eb_aa8f_000af7b6a54frow13_col0,#T_e8fd55a4_3fa2_11eb_aa8f_000af7b6a54frow13_col1,#T_e8fd55a4_3fa2_11eb_aa8f_000af7b6a54frow14_col0,#T_e8fd55a4_3fa2_11eb_aa8f_000af7b6a54frow14_col1,#T_e8fd55a4_3fa2_11eb_aa8f_000af7b6a54frow15_col0,#T_e8fd55a4_3fa2_11eb_aa8f_000af7b6a54frow15_col1,#T_e8fd55a4_3fa2_11eb_aa8f_000af7b6a54frow16_col0,#T_e8fd55a4_3fa2_11eb_aa8f_000af7b6a54frow16_col1{\n",
       "            background:  yellow;\n",
       "        }#T_e8fd55a4_3fa2_11eb_aa8f_000af7b6a54frow5_col0,#T_e8fd55a4_3fa2_11eb_aa8f_000af7b6a54frow5_col1,#T_e8fd55a4_3fa2_11eb_aa8f_000af7b6a54frow6_col0,#T_e8fd55a4_3fa2_11eb_aa8f_000af7b6a54frow6_col1,#T_e8fd55a4_3fa2_11eb_aa8f_000af7b6a54frow7_col0,#T_e8fd55a4_3fa2_11eb_aa8f_000af7b6a54frow7_col1,#T_e8fd55a4_3fa2_11eb_aa8f_000af7b6a54frow8_col0,#T_e8fd55a4_3fa2_11eb_aa8f_000af7b6a54frow8_col1,#T_e8fd55a4_3fa2_11eb_aa8f_000af7b6a54frow9_col0,#T_e8fd55a4_3fa2_11eb_aa8f_000af7b6a54frow9_col1,#T_e8fd55a4_3fa2_11eb_aa8f_000af7b6a54frow10_col0,#T_e8fd55a4_3fa2_11eb_aa8f_000af7b6a54frow10_col1,#T_e8fd55a4_3fa2_11eb_aa8f_000af7b6a54frow17_col0,#T_e8fd55a4_3fa2_11eb_aa8f_000af7b6a54frow17_col1{\n",
       "            background:  green;\n",
       "        }</style><table id=\"T_e8fd55a4_3fa2_11eb_aa8f_000af7b6a54f\" ><thead>    <tr>        <th class=\"blank level0\" ></th>        <th class=\"col_heading level0 col0\" >Class</th>        <th class=\"col_heading level0 col1\" >Predicted score</th>    </tr></thead><tbody>\n",
       "                <tr>\n",
       "                        <th id=\"T_e8fd55a4_3fa2_11eb_aa8f_000af7b6a54flevel0_row0\" class=\"row_heading level0 row0\" >0</th>\n",
       "                        <td id=\"T_e8fd55a4_3fa2_11eb_aa8f_000af7b6a54frow0_col0\" class=\"data row0 col0\" >1</td>\n",
       "                        <td id=\"T_e8fd55a4_3fa2_11eb_aa8f_000af7b6a54frow0_col1\" class=\"data row0 col1\" >4.245725</td>\n",
       "            </tr>\n",
       "            <tr>\n",
       "                        <th id=\"T_e8fd55a4_3fa2_11eb_aa8f_000af7b6a54flevel0_row1\" class=\"row_heading level0 row1\" >1</th>\n",
       "                        <td id=\"T_e8fd55a4_3fa2_11eb_aa8f_000af7b6a54frow1_col0\" class=\"data row1 col0\" >0</td>\n",
       "                        <td id=\"T_e8fd55a4_3fa2_11eb_aa8f_000af7b6a54frow1_col1\" class=\"data row1 col1\" >1.906806</td>\n",
       "            </tr>\n",
       "            <tr>\n",
       "                        <th id=\"T_e8fd55a4_3fa2_11eb_aa8f_000af7b6a54flevel0_row2\" class=\"row_heading level0 row2\" >2</th>\n",
       "                        <td id=\"T_e8fd55a4_3fa2_11eb_aa8f_000af7b6a54frow2_col0\" class=\"data row2 col0\" >0</td>\n",
       "                        <td id=\"T_e8fd55a4_3fa2_11eb_aa8f_000af7b6a54frow2_col1\" class=\"data row2 col1\" >1.851714</td>\n",
       "            </tr>\n",
       "            <tr>\n",
       "                        <th id=\"T_e8fd55a4_3fa2_11eb_aa8f_000af7b6a54flevel0_row3\" class=\"row_heading level0 row3\" >3</th>\n",
       "                        <td id=\"T_e8fd55a4_3fa2_11eb_aa8f_000af7b6a54frow3_col0\" class=\"data row3 col0\" >2</td>\n",
       "                        <td id=\"T_e8fd55a4_3fa2_11eb_aa8f_000af7b6a54frow3_col1\" class=\"data row3 col1\" >0.576689</td>\n",
       "            </tr>\n",
       "            <tr>\n",
       "                        <th id=\"T_e8fd55a4_3fa2_11eb_aa8f_000af7b6a54flevel0_row4\" class=\"row_heading level0 row4\" >4</th>\n",
       "                        <td id=\"T_e8fd55a4_3fa2_11eb_aa8f_000af7b6a54frow4_col0\" class=\"data row4 col0\" >4</td>\n",
       "                        <td id=\"T_e8fd55a4_3fa2_11eb_aa8f_000af7b6a54frow4_col1\" class=\"data row4 col1\" >1.532727</td>\n",
       "            </tr>\n",
       "            <tr>\n",
       "                        <th id=\"T_e8fd55a4_3fa2_11eb_aa8f_000af7b6a54flevel0_row5\" class=\"row_heading level0 row5\" >5</th>\n",
       "                        <td id=\"T_e8fd55a4_3fa2_11eb_aa8f_000af7b6a54frow5_col0\" class=\"data row5 col0\" >2</td>\n",
       "                        <td id=\"T_e8fd55a4_3fa2_11eb_aa8f_000af7b6a54frow5_col1\" class=\"data row5 col1\" >2.531647</td>\n",
       "            </tr>\n",
       "            <tr>\n",
       "                        <th id=\"T_e8fd55a4_3fa2_11eb_aa8f_000af7b6a54flevel0_row6\" class=\"row_heading level0 row6\" >6</th>\n",
       "                        <td id=\"T_e8fd55a4_3fa2_11eb_aa8f_000af7b6a54frow6_col0\" class=\"data row6 col0\" >3</td>\n",
       "                        <td id=\"T_e8fd55a4_3fa2_11eb_aa8f_000af7b6a54frow6_col1\" class=\"data row6 col1\" >3.918067</td>\n",
       "            </tr>\n",
       "            <tr>\n",
       "                        <th id=\"T_e8fd55a4_3fa2_11eb_aa8f_000af7b6a54flevel0_row7\" class=\"row_heading level0 row7\" >7</th>\n",
       "                        <td id=\"T_e8fd55a4_3fa2_11eb_aa8f_000af7b6a54frow7_col0\" class=\"data row7 col0\" >3</td>\n",
       "                        <td id=\"T_e8fd55a4_3fa2_11eb_aa8f_000af7b6a54frow7_col1\" class=\"data row7 col1\" >3.637089</td>\n",
       "            </tr>\n",
       "            <tr>\n",
       "                        <th id=\"T_e8fd55a4_3fa2_11eb_aa8f_000af7b6a54flevel0_row8\" class=\"row_heading level0 row8\" >8</th>\n",
       "                        <td id=\"T_e8fd55a4_3fa2_11eb_aa8f_000af7b6a54frow8_col0\" class=\"data row8 col0\" >3</td>\n",
       "                        <td id=\"T_e8fd55a4_3fa2_11eb_aa8f_000af7b6a54frow8_col1\" class=\"data row8 col1\" >3.545485</td>\n",
       "            </tr>\n",
       "            <tr>\n",
       "                        <th id=\"T_e8fd55a4_3fa2_11eb_aa8f_000af7b6a54flevel0_row9\" class=\"row_heading level0 row9\" >9</th>\n",
       "                        <td id=\"T_e8fd55a4_3fa2_11eb_aa8f_000af7b6a54frow9_col0\" class=\"data row9 col0\" >3</td>\n",
       "                        <td id=\"T_e8fd55a4_3fa2_11eb_aa8f_000af7b6a54frow9_col1\" class=\"data row9 col1\" >3.120731</td>\n",
       "            </tr>\n",
       "            <tr>\n",
       "                        <th id=\"T_e8fd55a4_3fa2_11eb_aa8f_000af7b6a54flevel0_row10\" class=\"row_heading level0 row10\" >10</th>\n",
       "                        <td id=\"T_e8fd55a4_3fa2_11eb_aa8f_000af7b6a54frow10_col0\" class=\"data row10 col0\" >1</td>\n",
       "                        <td id=\"T_e8fd55a4_3fa2_11eb_aa8f_000af7b6a54frow10_col1\" class=\"data row10 col1\" >1.532727</td>\n",
       "            </tr>\n",
       "            <tr>\n",
       "                        <th id=\"T_e8fd55a4_3fa2_11eb_aa8f_000af7b6a54flevel0_row11\" class=\"row_heading level0 row11\" >11</th>\n",
       "                        <td id=\"T_e8fd55a4_3fa2_11eb_aa8f_000af7b6a54frow11_col0\" class=\"data row11 col0\" >4</td>\n",
       "                        <td id=\"T_e8fd55a4_3fa2_11eb_aa8f_000af7b6a54frow11_col1\" class=\"data row11 col1\" >2.642419</td>\n",
       "            </tr>\n",
       "            <tr>\n",
       "                        <th id=\"T_e8fd55a4_3fa2_11eb_aa8f_000af7b6a54flevel0_row12\" class=\"row_heading level0 row12\" >12</th>\n",
       "                        <td id=\"T_e8fd55a4_3fa2_11eb_aa8f_000af7b6a54frow12_col0\" class=\"data row12 col0\" >1</td>\n",
       "                        <td id=\"T_e8fd55a4_3fa2_11eb_aa8f_000af7b6a54frow12_col1\" class=\"data row12 col1\" >2.510886</td>\n",
       "            </tr>\n",
       "            <tr>\n",
       "                        <th id=\"T_e8fd55a4_3fa2_11eb_aa8f_000af7b6a54flevel0_row13\" class=\"row_heading level0 row13\" >13</th>\n",
       "                        <td id=\"T_e8fd55a4_3fa2_11eb_aa8f_000af7b6a54frow13_col0\" class=\"data row13 col0\" >3</td>\n",
       "                        <td id=\"T_e8fd55a4_3fa2_11eb_aa8f_000af7b6a54frow13_col1\" class=\"data row13 col1\" >4.022132</td>\n",
       "            </tr>\n",
       "            <tr>\n",
       "                        <th id=\"T_e8fd55a4_3fa2_11eb_aa8f_000af7b6a54flevel0_row14\" class=\"row_heading level0 row14\" >14</th>\n",
       "                        <td id=\"T_e8fd55a4_3fa2_11eb_aa8f_000af7b6a54frow14_col0\" class=\"data row14 col0\" >2</td>\n",
       "                        <td id=\"T_e8fd55a4_3fa2_11eb_aa8f_000af7b6a54frow14_col1\" class=\"data row14 col1\" >3.670090</td>\n",
       "            </tr>\n",
       "            <tr>\n",
       "                        <th id=\"T_e8fd55a4_3fa2_11eb_aa8f_000af7b6a54flevel0_row15\" class=\"row_heading level0 row15\" >15</th>\n",
       "                        <td id=\"T_e8fd55a4_3fa2_11eb_aa8f_000af7b6a54frow15_col0\" class=\"data row15 col0\" >4</td>\n",
       "                        <td id=\"T_e8fd55a4_3fa2_11eb_aa8f_000af7b6a54frow15_col1\" class=\"data row15 col1\" >2.104395</td>\n",
       "            </tr>\n",
       "            <tr>\n",
       "                        <th id=\"T_e8fd55a4_3fa2_11eb_aa8f_000af7b6a54flevel0_row16\" class=\"row_heading level0 row16\" >16</th>\n",
       "                        <td id=\"T_e8fd55a4_3fa2_11eb_aa8f_000af7b6a54frow16_col0\" class=\"data row16 col0\" >0</td>\n",
       "                        <td id=\"T_e8fd55a4_3fa2_11eb_aa8f_000af7b6a54frow16_col1\" class=\"data row16 col1\" >1.634388</td>\n",
       "            </tr>\n",
       "            <tr>\n",
       "                        <th id=\"T_e8fd55a4_3fa2_11eb_aa8f_000af7b6a54flevel0_row17\" class=\"row_heading level0 row17\" >17</th>\n",
       "                        <td id=\"T_e8fd55a4_3fa2_11eb_aa8f_000af7b6a54frow17_col0\" class=\"data row17 col0\" >2</td>\n",
       "                        <td id=\"T_e8fd55a4_3fa2_11eb_aa8f_000af7b6a54frow17_col1\" class=\"data row17 col1\" >2.986885</td>\n",
       "            </tr>\n",
       "            <tr>\n",
       "                        <th id=\"T_e8fd55a4_3fa2_11eb_aa8f_000af7b6a54flevel0_row18\" class=\"row_heading level0 row18\" >18</th>\n",
       "                        <td id=\"T_e8fd55a4_3fa2_11eb_aa8f_000af7b6a54frow18_col0\" class=\"data row18 col0\" >2</td>\n",
       "                        <td id=\"T_e8fd55a4_3fa2_11eb_aa8f_000af7b6a54frow18_col1\" class=\"data row18 col1\" >5.771391</td>\n",
       "            </tr>\n",
       "    </tbody></table>"
      ],
      "text/plain": [
       "<pandas.io.formats.style.Styler at 0x7f734fbe9f98>"
      ]
     },
     "execution_count": 5,
     "metadata": {},
     "output_type": "execute_result"
    }
   ],
   "source": [
    "# VISUALIZATION\n",
    "\n",
    "# Compare 10 classes (user scores)\n",
    "def comp_scores():\n",
    "    \n",
    "    compare_pol = pd.DataFrame(columns=('User Score', 'Predicted score'))\n",
    "    \n",
    "    compare_pol['User Score'] = y_test\n",
    "    compare_pol['Predicted score'] = y_pred\n",
    "\n",
    "    def highlight(val):\n",
    "        if val['User Score']-1 <= val['Predicted score'] <= val['User Score']+1:\n",
    "            return ['background: green']*2 \n",
    "        elif val['User Score']-2 <= val['Predicted score'] <= val['User Score']+2:\n",
    "            return ['background: yellow']*2\n",
    "        else:\n",
    "            return ['background: red']*2\n",
    "\n",
    "    return compare_pol.style.apply(highlight, axis=1)\n",
    "    \n",
    "    \n",
    "# Compare other class numbers (classes)\n",
    "def comp_classes():\n",
    "    \n",
    "    compare_pol = pd.DataFrame(columns=('Class', 'Predicted score'))\n",
    "    \n",
    "    compare_pol['Class'] = y_test\n",
    "    compare_pol['Predicted score'] = y_pred\n",
    "\n",
    "    def highlight(val):\n",
    "        if val['Class']-1 <= val['Predicted score'] <= val['Class']+1:\n",
    "            return ['background: green']*2 \n",
    "        elif val['Class']-2 <= val['Predicted score'] <= val['Class']+2:\n",
    "            return ['background: yellow']*2\n",
    "        else:\n",
    "            return ['background: red']*2\n",
    "\n",
    "    return compare_pol.style.apply(highlight, axis=1)\n",
    "\n",
    "\n",
    "if n_classes == 10:\n",
    "    comp_table = comp_scores()\n",
    "else:\n",
    "    comp_table = comp_classes()\n",
    "    \n",
    "comp_table"
   ]
  },
  {
   "cell_type": "code",
   "execution_count": 6,
   "metadata": {},
   "outputs": [
    {
     "name": "stdout",
     "output_type": "stream",
     "text": [
      "Mean Squared Error:  3.0137723273803045\n"
     ]
    }
   ],
   "source": []
  },
  {
   "cell_type": "markdown",
   "metadata": {},
   "source": [
    "# Output\n",
    "\n",
    "The first impression is that the results do not look too bad and could potentially be useful with different features and polynomial order chosen this time (compared to the first model). Therefore, I used this example to turn it into a real experiment which directly compares scores."
   ]
  },
  {
   "cell_type": "code",
   "execution_count": null,
   "metadata": {},
   "outputs": [],
   "source": []
  }
 ],
 "metadata": {
  "kernelspec": {
   "display_name": "Python 3",
   "language": "python",
   "name": "python3"
  },
  "language_info": {
   "codemirror_mode": {
    "name": "ipython",
    "version": 3
   },
   "file_extension": ".py",
   "mimetype": "text/x-python",
   "name": "python",
   "nbconvert_exporter": "python",
   "pygments_lexer": "ipython3",
   "version": "3.6.10"
  }
 },
 "nbformat": 4,
 "nbformat_minor": 4
}
