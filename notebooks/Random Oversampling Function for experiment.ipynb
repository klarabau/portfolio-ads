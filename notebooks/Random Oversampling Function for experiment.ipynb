{
 "cells": [
  {
   "cell_type": "markdown",
   "metadata": {},
   "source": [
    "# Input\n",
    "\n",
    "After finding out that Random Oversampling is a potential solution for our imbalanced data, we wanted to implement it in the experiment. Therefore I created a function that lets us implement it easily."
   ]
  },
  {
   "cell_type": "code",
   "execution_count": 44,
   "metadata": {
    "code_folding": []
   },
   "outputs": [],
   "source": [
    "# Imports + dataframe creation\n",
    "import pandas as pd\n",
    "import matplotlib.pyplot as plt\n",
    "import numpy as np\n",
    "from imblearn.over_sampling import RandomOverSampler\n",
    "\n",
    "# Splitting function from Oscar\n",
    "def split_classes(n_classes = 3):\n",
    "    class_labels = []\n",
    "    \n",
    "    # Create sorted list of unique values in df['User score']\n",
    "    current_classes = np.sort(df['User score'].unique()) \n",
    "    \n",
    "    # Split this array in n_classes of same size\n",
    "    split = np.array_split(current_classes, n_classes) \n",
    "    \n",
    "    for row in df.iterrows(): # Iterate over every row in the dataframe\n",
    "        for label, class_ranges in enumerate(split): # Iterate over every sub array in split\n",
    "            if(row[1]['User score'] in class_ranges): # If user score for row is in sub array\n",
    "                class_labels.append(label) # Append class label to list\n",
    "    return class_labels # Return list with class labels\n",
    "\n",
    "df = pd.read_csv('/datc/nano/notebooks/Target variable & Features (V3).csv', index_col = 0)\n",
    "df['Class'] = split_classes()"
   ]
  },
  {
   "cell_type": "code",
   "execution_count": 46,
   "metadata": {
    "code_folding": []
   },
   "outputs": [],
   "source": [
    "# Function\n",
    "def applyRandomOversampling(data, algorithm):\n",
    "    \n",
    "    data = data[data['Threshold method']=='yen'].drop(['Threshold method','User score'],axis=1)\n",
    "    x = data.drop('Class', axis=1)\n",
    "    y = data['Class']\n",
    "    ros = RandomOverSampler(random_state=1)\n",
    "    x_res, y_res = ros.fit_resample(x,y)\n",
    "    \n",
    "    return x_res.join(y_res)  \n",
    "\n",
    "df_over_yen = applyRandomOversampling(df, 'yen')"
   ]
  },
  {
   "cell_type": "code",
   "execution_count": 47,
   "metadata": {
    "code_folding": []
   },
   "outputs": [
    {
     "data": {
      "text/plain": [
       "2    25\n",
       "1    25\n",
       "0    25\n",
       "Name: Class, dtype: int64"
      ]
     },
     "execution_count": 47,
     "metadata": {},
     "output_type": "execute_result"
    }
   ],
   "source": [
    "#Proof that it works\n",
    "df['Class'][df['Threshold method']=='yen'].value_counts()\n",
    "df_over_yen['Class'].value_counts()"
   ]
  },
  {
   "cell_type": "markdown",
   "metadata": {},
   "source": [
    "## Output\n",
    "\n",
    "My work on Random Oversampling was used in the experiment to compare models and balancing methods."
   ]
  },
  {
   "cell_type": "code",
   "execution_count": null,
   "metadata": {},
   "outputs": [],
   "source": []
  }
 ],
 "metadata": {
  "kernelspec": {
   "display_name": "Python 3",
   "language": "python",
   "name": "python3"
  },
  "language_info": {
   "codemirror_mode": {
    "name": "ipython",
    "version": 3
   },
   "file_extension": ".py",
   "mimetype": "text/x-python",
   "name": "python",
   "nbconvert_exporter": "python",
   "pygments_lexer": "ipython3",
   "version": "3.6.10"
  }
 },
 "nbformat": 4,
 "nbformat_minor": 4
}
