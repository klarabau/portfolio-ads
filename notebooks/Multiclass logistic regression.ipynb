{
 "cells": [
  {
   "cell_type": "markdown",
   "metadata": {},
   "source": [
    "# Input\n",
    "After already having experimented with both Linear (me) and Binary Logistic Regression (Oscar), we decided to look into Multiclass Logistic Regression. This would allow us to have more distinction in the user scores, other than \"good\" and \"bad\". "
   ]
  },
  {
   "cell_type": "markdown",
   "metadata": {},
   "source": [
    "# Multiclass logistic regression model on Yen\n",
    "Sources: \n",
    "\n",
    "https://realpython.com/logistic-regression-python/#logistic-regression-overview\n",
    "\n",
    "https://www.freecodecamp.org/news/how-to-build-and-train-linear-and-logistic-regression-ml-models-in-python/"
   ]
  },
  {
   "cell_type": "code",
   "execution_count": 2,
   "metadata": {
    "code_folding": []
   },
   "outputs": [],
   "source": [
    "# Importing libraries \n",
    "\n",
    "import pandas as pd\n",
    "import matplotlib\n",
    "import matplotlib.pyplot as plt\n",
    "import numpy as np\n",
    "import seaborn as sns\n",
    "import random\n",
    "from ml import *\n",
    "\n",
    "from sklearn.preprocessing import PolynomialFeatures, StandardScaler\n",
    "from sklearn.pipeline import make_pipeline\n",
    "from sklearn.model_selection import train_test_split\n",
    "from sklearn.metrics import f1_score, classification_report, accuracy_score\n",
    "from sklearn.linear_model import LogisticRegression\n",
    "from scipy.special import expit"
   ]
  },
  {
   "cell_type": "code",
   "execution_count": 3,
   "metadata": {
    "code_folding": [
     2
    ]
   },
   "outputs": [
    {
     "name": "stdout",
     "output_type": "stream",
     "text": [
      "Class 0:  25  records\n",
      "Class 1:  11  records\n",
      "Class 2:  22  records\n",
      "Class 3:  0  records\n"
     ]
    },
    {
     "data": {
      "text/html": [
       "<div>\n",
       "<style scoped>\n",
       "    .dataframe tbody tr th:only-of-type {\n",
       "        vertical-align: middle;\n",
       "    }\n",
       "\n",
       "    .dataframe tbody tr th {\n",
       "        vertical-align: top;\n",
       "    }\n",
       "\n",
       "    .dataframe thead th {\n",
       "        text-align: right;\n",
       "    }\n",
       "</style>\n",
       "<table border=\"1\" class=\"dataframe\">\n",
       "  <thead>\n",
       "    <tr style=\"text-align: right;\">\n",
       "      <th></th>\n",
       "      <th>Threshold method</th>\n",
       "      <th>Threshold: area spread</th>\n",
       "      <th>Threshold: border</th>\n",
       "      <th>Threshold: count</th>\n",
       "      <th>Threshold: fill</th>\n",
       "      <th>Threshold: intensity</th>\n",
       "      <th>Threshold: separation</th>\n",
       "      <th>User score</th>\n",
       "      <th>Class</th>\n",
       "    </tr>\n",
       "    <tr>\n",
       "      <th>Id</th>\n",
       "      <th></th>\n",
       "      <th></th>\n",
       "      <th></th>\n",
       "      <th></th>\n",
       "      <th></th>\n",
       "      <th></th>\n",
       "      <th></th>\n",
       "      <th></th>\n",
       "      <th></th>\n",
       "    </tr>\n",
       "  </thead>\n",
       "  <tbody>\n",
       "    <tr>\n",
       "      <th>5f11480a2d99b96663b97fdb</th>\n",
       "      <td>yen</td>\n",
       "      <td>0.265214</td>\n",
       "      <td>1.866963</td>\n",
       "      <td>13.192785</td>\n",
       "      <td>0.215541</td>\n",
       "      <td>1.711409</td>\n",
       "      <td>0.106493</td>\n",
       "      <td>9</td>\n",
       "      <td>2</td>\n",
       "    </tr>\n",
       "    <tr>\n",
       "      <th>5f15419a79e27502789bbbd1</th>\n",
       "      <td>yen</td>\n",
       "      <td>0.154306</td>\n",
       "      <td>5.648380</td>\n",
       "      <td>0.010033</td>\n",
       "      <td>0.184900</td>\n",
       "      <td>4.396552</td>\n",
       "      <td>0.355659</td>\n",
       "      <td>4</td>\n",
       "      <td>0</td>\n",
       "    </tr>\n",
       "    <tr>\n",
       "      <th>5f27c1cced3aa3f0c260b246</th>\n",
       "      <td>yen</td>\n",
       "      <td>0.012426</td>\n",
       "      <td>1.814439</td>\n",
       "      <td>2.246626</td>\n",
       "      <td>0.184488</td>\n",
       "      <td>1.734694</td>\n",
       "      <td>0.139754</td>\n",
       "      <td>1</td>\n",
       "      <td>0</td>\n",
       "    </tr>\n",
       "    <tr>\n",
       "      <th>5f30f7b9ed3aa3f0c260b563</th>\n",
       "      <td>yen</td>\n",
       "      <td>0.408562</td>\n",
       "      <td>4.563709</td>\n",
       "      <td>0.019553</td>\n",
       "      <td>0.220224</td>\n",
       "      <td>2.833333</td>\n",
       "      <td>0.162283</td>\n",
       "      <td>2</td>\n",
       "      <td>0</td>\n",
       "    </tr>\n",
       "    <tr>\n",
       "      <th>5f30fafded3aa3f0c260b6bc</th>\n",
       "      <td>yen</td>\n",
       "      <td>0.035861</td>\n",
       "      <td>2.068226</td>\n",
       "      <td>0.671646</td>\n",
       "      <td>0.160934</td>\n",
       "      <td>1.902985</td>\n",
       "      <td>0.130774</td>\n",
       "      <td>4</td>\n",
       "      <td>0</td>\n",
       "    </tr>\n",
       "  </tbody>\n",
       "</table>\n",
       "</div>"
      ],
      "text/plain": [
       "                         Threshold method  Threshold: area spread  \\\n",
       "Id                                                                  \n",
       "5f11480a2d99b96663b97fdb              yen                0.265214   \n",
       "5f15419a79e27502789bbbd1              yen                0.154306   \n",
       "5f27c1cced3aa3f0c260b246              yen                0.012426   \n",
       "5f30f7b9ed3aa3f0c260b563              yen                0.408562   \n",
       "5f30fafded3aa3f0c260b6bc              yen                0.035861   \n",
       "\n",
       "                          Threshold: border  Threshold: count  \\\n",
       "Id                                                              \n",
       "5f11480a2d99b96663b97fdb           1.866963         13.192785   \n",
       "5f15419a79e27502789bbbd1           5.648380          0.010033   \n",
       "5f27c1cced3aa3f0c260b246           1.814439          2.246626   \n",
       "5f30f7b9ed3aa3f0c260b563           4.563709          0.019553   \n",
       "5f30fafded3aa3f0c260b6bc           2.068226          0.671646   \n",
       "\n",
       "                          Threshold: fill  Threshold: intensity  \\\n",
       "Id                                                                \n",
       "5f11480a2d99b96663b97fdb         0.215541              1.711409   \n",
       "5f15419a79e27502789bbbd1         0.184900              4.396552   \n",
       "5f27c1cced3aa3f0c260b246         0.184488              1.734694   \n",
       "5f30f7b9ed3aa3f0c260b563         0.220224              2.833333   \n",
       "5f30fafded3aa3f0c260b6bc         0.160934              1.902985   \n",
       "\n",
       "                          Threshold: separation  User score  Class  \n",
       "Id                                                                  \n",
       "5f11480a2d99b96663b97fdb               0.106493           9      2  \n",
       "5f15419a79e27502789bbbd1               0.355659           4      0  \n",
       "5f27c1cced3aa3f0c260b246               0.139754           1      0  \n",
       "5f30f7b9ed3aa3f0c260b563               0.162283           2      0  \n",
       "5f30fafded3aa3f0c260b6bc               0.130774           4      0  "
      ]
     },
     "execution_count": 3,
     "metadata": {},
     "output_type": "execute_result"
    }
   ],
   "source": [
    "# Splitting function from Oscar\n",
    "\n",
    "def split_classes(n_classes = 3):\n",
    "    class_labels = []\n",
    "    \n",
    "    # Create sorted list of unique values in df['User score']\n",
    "    current_classes = np.sort(df['User score'].unique()) \n",
    "    \n",
    "    # Split this array in n_classes of same size\n",
    "    split = np.array_split(current_classes, n_classes) \n",
    "    \n",
    "    for row in df.iterrows(): # Iterate over every row in the dataframe\n",
    "        for label, class_ranges in enumerate(split): # Iterate over every sub array in split\n",
    "            if(row[1]['User score'] in class_ranges): # If user score for row is in sub array\n",
    "                class_labels.append(label) # Append class label to list\n",
    "    return class_labels # Return list with class labels\n",
    "\n",
    "\n",
    "# Create df with classes\n",
    "\n",
    "df = pd.read_csv('/datc/nano/notebooks/Target variable & Features (V3).csv', index_col = 0)\n",
    "df['Class'] = split_classes()\n",
    "\n",
    "\n",
    "# Creating dataframe with only yen values\n",
    "\n",
    "df_yen = df[df['Threshold method'] =='yen']\n",
    "\n",
    "print('Class 0: ', df_yen[df_yen['Class']==0]['User score'].count(), ' records')\n",
    "print('Class 1: ', df_yen[df_yen['Class']==1]['User score'].count(), ' records')\n",
    "print('Class 2: ', df_yen[df_yen['Class']==2]['User score'].count(), ' records')\n",
    "print('Class 3: ', df_yen[df_yen['Class']==3]['User score'].count(), ' records')\n",
    "\n",
    "df_yen.head()"
   ]
  },
  {
   "cell_type": "code",
   "execution_count": 4,
   "metadata": {
    "code_folding": []
   },
   "outputs": [
    {
     "name": "stdout",
     "output_type": "stream",
     "text": [
      "Class\n",
      "2        4\n",
      "1        4\n",
      "0        4\n",
      "dtype: int64\n"
     ]
    }
   ],
   "source": [
    "# Dividing into training and validation data\n",
    "\n",
    "x = df_yen[['Threshold: separation', 'Threshold: intensity', 'Threshold: count']]\n",
    "y = df_yen[['Class']]\n",
    "x_train, x_test, y_train, y_test = train_test_split(x, y, test_size=0.2, random_state=5)\n",
    "\n",
    "print(y_test.value_counts())"
   ]
  },
  {
   "cell_type": "code",
   "execution_count": 5,
   "metadata": {},
   "outputs": [
    {
     "data": {
      "text/plain": [
       "<seaborn.axisgrid.PairGrid at 0x7f7648253d68>"
      ]
     },
     "execution_count": 5,
     "metadata": {},
     "output_type": "execute_result"
    },
    {
     "data": {
      "image/png": "[encoded data removed]",
      "text/plain": [
       "<Figure size 540x540 with 12 Axes>"
      ]
     },
     "metadata": {
      "needs_background": "light"
     },
     "output_type": "display_data"
    }
   ],
   "source": [
    "# Normalizing training data\n",
    "\n",
    "scaler = StandardScaler()\n",
    "x_train_array = scaler.fit_transform(x_train)\n",
    "x_train = pd.DataFrame(x_train_array, index=x_train.index, columns=x_train.columns)\n",
    "\n",
    "sns.pairplot(x_train)"
   ]
  },
  {
   "cell_type": "code",
   "execution_count": 6,
   "metadata": {},
   "outputs": [],
   "source": [
    "# Training model\n",
    "\n",
    "model = LogisticRegression(multi_class='auto', random_state=0)\n",
    "model.fit(x_train, y_train)\n",
    "y_pred = model.predict(x_train)"
   ]
  },
  {
   "cell_type": "code",
   "execution_count": 7,
   "metadata": {},
   "outputs": [
    {
     "data": {
      "image/png": "[encoded data removed]",
      "text/plain": [
       "<Figure size 432x288 with 2 Axes>"
      ]
     },
     "metadata": {
      "needs_background": "light"
     },
     "output_type": "display_data"
    }
   ],
   "source": [
    "# Comparison visualization\n",
    "\n",
    "colors = ['darkred','red','orange','gold']\n",
    "\n",
    "plt.subplot(1,2,1)\n",
    "plt.scatter(x_train['Threshold: separation'], x_train['Threshold: intensity'], \n",
    "            c=y_train['Class'], cmap=matplotlib.colors.ListedColormap(colors), alpha=0.8)\n",
    "\n",
    "plt.xlabel('Threshold: Separation')\n",
    "plt.ylabel('Threshold: Intensity')\n",
    "plt.title('Ground truth')\n",
    "plt.grid(True)\n",
    "\n",
    "plt.subplot(1,2,2)\n",
    "plt.scatter(x_train['Threshold: separation'], x_train['Threshold: intensity'], \n",
    "            c=model.predict(x_train), cmap=matplotlib.colors.ListedColormap(colors), alpha=0.8)\n",
    "\n",
    "plt.xlabel('Threshold: Separation')\n",
    "plt.title('Predictions')\n",
    "plt.grid(True)\n",
    "plt.tight_layout()\n",
    "plt.show()"
   ]
  },
  {
   "cell_type": "code",
   "execution_count": 8,
   "metadata": {},
   "outputs": [
    {
     "name": "stdout",
     "output_type": "stream",
     "text": [
      "Score:  0.6739130434782609\n",
      "              precision    recall  f1-score   support\n",
      "\n",
      "           0       0.64      0.86      0.73        21\n",
      "           1       1.00      0.14      0.25         7\n",
      "           2       0.71      0.67      0.69        18\n",
      "\n",
      "    accuracy                           0.67        46\n",
      "   macro avg       0.78      0.56      0.56        46\n",
      "weighted avg       0.72      0.67      0.64        46\n",
      "\n"
     ]
    }
   ],
   "source": [
    "# Evaluation\n",
    "\n",
    "score_ = model.score(x_train, y_train)\n",
    "conf_m = confusion_matrix(y_train, y_pred)\n",
    "report = classification_report(y_train, y_pred, zero_division=True)\n",
    "\n",
    "print('Score: ', score_)\n",
    "print(report)"
   ]
  },
  {
   "cell_type": "code",
   "execution_count": 12,
   "metadata": {},
   "outputs": [
    {
     "data": {
      "image/png": "[encoded data removed]",
      "text/plain": [
       "<Figure size 432x288 with 1 Axes>"
      ]
     },
     "metadata": {
      "needs_background": "light"
     },
     "output_type": "display_data"
    }
   ],
   "source": [
    "# Confusion matrix \n",
    "\n",
    "x_ticks_labels = ['Predicted 0s', 'Predicted 1s', 'Predicted 2s'] \n",
    "y_ticks_labels = ['Actual 0s', 'Actual 1s', 'Actual 2s']\n",
    "sns.heatmap(conf_m, xticklabels=x_ticks_labels, yticklabels=y_ticks_labels, cmap='Blues', annot=True, cbar=False)\n",
    "\n",
    "plt.title('Confusion matrix of multiclass logistic regression model')\n",
    "plt.show()"
   ]
  },
  {
   "cell_type": "code",
   "execution_count": 10,
   "metadata": {},
   "outputs": [
    {
     "data": {
      "text/html": [
       "<div>\n",
       "<style scoped>\n",
       "    .dataframe tbody tr th:only-of-type {\n",
       "        vertical-align: middle;\n",
       "    }\n",
       "\n",
       "    .dataframe tbody tr th {\n",
       "        vertical-align: top;\n",
       "    }\n",
       "\n",
       "    .dataframe thead th {\n",
       "        text-align: right;\n",
       "    }\n",
       "</style>\n",
       "<table border=\"1\" class=\"dataframe\">\n",
       "  <thead>\n",
       "    <tr style=\"text-align: right;\">\n",
       "      <th></th>\n",
       "      <th>Class</th>\n",
       "      <th>Predicted Class</th>\n",
       "    </tr>\n",
       "    <tr>\n",
       "      <th>Id</th>\n",
       "      <th></th>\n",
       "      <th></th>\n",
       "    </tr>\n",
       "  </thead>\n",
       "  <tbody>\n",
       "    <tr>\n",
       "      <th>5f491885298cf94b214e8f40</th>\n",
       "      <td>0</td>\n",
       "      <td>0</td>\n",
       "    </tr>\n",
       "    <tr>\n",
       "      <th>5f4caa47298cf94b214e9991</th>\n",
       "      <td>1</td>\n",
       "      <td>2</td>\n",
       "    </tr>\n",
       "    <tr>\n",
       "      <th>5f491c1d298cf94b214e90a4</th>\n",
       "      <td>0</td>\n",
       "      <td>2</td>\n",
       "    </tr>\n",
       "    <tr>\n",
       "      <th>5f4cb652298cf94b214ea0a8</th>\n",
       "      <td>1</td>\n",
       "      <td>2</td>\n",
       "    </tr>\n",
       "    <tr>\n",
       "      <th>5f4cb886298cf94b214ea3ca</th>\n",
       "      <td>2</td>\n",
       "      <td>2</td>\n",
       "    </tr>\n",
       "    <tr>\n",
       "      <th>5f4629d78d62faf2c4d4e268</th>\n",
       "      <td>0</td>\n",
       "      <td>2</td>\n",
       "    </tr>\n",
       "    <tr>\n",
       "      <th>5f4caa60298cf94b214e99a8</th>\n",
       "      <td>2</td>\n",
       "      <td>0</td>\n",
       "    </tr>\n",
       "    <tr>\n",
       "      <th>5f4911a5298cf94b214e8967</th>\n",
       "      <td>2</td>\n",
       "      <td>2</td>\n",
       "    </tr>\n",
       "    <tr>\n",
       "      <th>5f48ee847495efe38e28c50b</th>\n",
       "      <td>1</td>\n",
       "      <td>2</td>\n",
       "    </tr>\n",
       "    <tr>\n",
       "      <th>5f491278298cf94b214e8b6e</th>\n",
       "      <td>0</td>\n",
       "      <td>0</td>\n",
       "    </tr>\n",
       "    <tr>\n",
       "      <th>5f48ed957495efe38e28c363</th>\n",
       "      <td>1</td>\n",
       "      <td>2</td>\n",
       "    </tr>\n",
       "    <tr>\n",
       "      <th>5f4cab36298cf94b214e9b52</th>\n",
       "      <td>2</td>\n",
       "      <td>2</td>\n",
       "    </tr>\n",
       "  </tbody>\n",
       "</table>\n",
       "</div>"
      ],
      "text/plain": [
       "                          Class  Predicted Class\n",
       "Id                                              \n",
       "5f491885298cf94b214e8f40      0                0\n",
       "5f4caa47298cf94b214e9991      1                2\n",
       "5f491c1d298cf94b214e90a4      0                2\n",
       "5f4cb652298cf94b214ea0a8      1                2\n",
       "5f4cb886298cf94b214ea3ca      2                2\n",
       "5f4629d78d62faf2c4d4e268      0                2\n",
       "5f4caa60298cf94b214e99a8      2                0\n",
       "5f4911a5298cf94b214e8967      2                2\n",
       "5f48ee847495efe38e28c50b      1                2\n",
       "5f491278298cf94b214e8b6e      0                0\n",
       "5f48ed957495efe38e28c363      1                2\n",
       "5f4cab36298cf94b214e9b52      2                2"
      ]
     },
     "execution_count": 10,
     "metadata": {},
     "output_type": "execute_result"
    }
   ],
   "source": [
    "# Compare predicted labels and correct labels in test set\n",
    "x_test = scaler.transform(x_test)\n",
    "\n",
    "compare_test = y_test.copy()\n",
    "compare_test['Predicted Class'] = model.predict(x_test)\n",
    "\n",
    "compare_test"
   ]
  },
  {
   "cell_type": "markdown",
   "metadata": {},
   "source": [
    "# Output\n",
    "\n",
    "Multiclass Logistic Regression could be very useful as it is applicable to our dataset and the problem we want to solve. However, in this file I have only focused on some selected features, therefore I decided to look into the features further and compare them directly. Anyway, the results are not extremely promising, but we decided to directly compare this model with other models in our experiment."
   ]
  },
  {
   "cell_type": "code",
   "execution_count": null,
   "metadata": {},
   "outputs": [],
   "source": []
  }
 ],
 "metadata": {
  "kernelspec": {
   "display_name": "Python 3",
   "language": "python",
   "name": "python3"
  },
  "language_info": {
   "codemirror_mode": {
    "name": "ipython",
    "version": 3
   },
   "file_extension": ".py",
   "mimetype": "text/x-python",
   "name": "python",
   "nbconvert_exporter": "python",
   "pygments_lexer": "ipython3",
   "version": "3.6.10"
  }
 },
 "nbformat": 4,
 "nbformat_minor": 4
}
