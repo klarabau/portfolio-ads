{
 "cells": [
  {
   "cell_type": "markdown",
   "metadata": {},
   "source": [
    "# Input\n",
    "After having looked into Multiclass Logistic Regression with some chosen features previously, I decided to compare all possible feature combinations in order to determine the ones that work best. "
   ]
  },
  {
   "cell_type": "markdown",
   "metadata": {},
   "source": [
    "# Multiclass logistic regression – feature combinations"
   ]
  },
  {
   "cell_type": "code",
   "execution_count": 2,
   "metadata": {
    "code_folding": [
     0
    ]
   },
   "outputs": [],
   "source": [
    "# Importing libraries \n",
    "\n",
    "import pandas as pd\n",
    "import matplotlib\n",
    "import matplotlib.pyplot as plt\n",
    "import numpy as np\n",
    "import seaborn as sns\n",
    "import random\n",
    "from ml import *\n",
    "from itertools import chain, combinations\n",
    "\n",
    "from sklearn.preprocessing import PolynomialFeatures\n",
    "from sklearn.pipeline import make_pipeline\n",
    "from sklearn.model_selection import train_test_split\n",
    "from sklearn.metrics import f1_score\n",
    "from sklearn.linear_model import LogisticRegression\n",
    "from sklearn.preprocessing import StandardScaler\n",
    "from sklearn.metrics import classification_report, accuracy_score\n",
    "from scipy.special import expit"
   ]
  },
  {
   "cell_type": "code",
   "execution_count": 3,
   "metadata": {
    "code_folding": [
     0,
     1
    ]
   },
   "outputs": [
    {
     "name": "stdout",
     "output_type": "stream",
     "text": [
      "Class 0:  25  records\n",
      "Class 1:  11  records\n",
      "Class 2:  22  records\n",
      "Class 3:  0  records\n"
     ]
    },
    {
     "data": {
      "text/html": [
       "<div>\n",
       "<style scoped>\n",
       "    .dataframe tbody tr th:only-of-type {\n",
       "        vertical-align: middle;\n",
       "    }\n",
       "\n",
       "    .dataframe tbody tr th {\n",
       "        vertical-align: top;\n",
       "    }\n",
       "\n",
       "    .dataframe thead th {\n",
       "        text-align: right;\n",
       "    }\n",
       "</style>\n",
       "<table border=\"1\" class=\"dataframe\">\n",
       "  <thead>\n",
       "    <tr style=\"text-align: right;\">\n",
       "      <th></th>\n",
       "      <th>Threshold method</th>\n",
       "      <th>Threshold: area spread</th>\n",
       "      <th>Threshold: border</th>\n",
       "      <th>Threshold: count</th>\n",
       "      <th>Threshold: fill</th>\n",
       "      <th>Threshold: intensity</th>\n",
       "      <th>Threshold: separation</th>\n",
       "      <th>User score</th>\n",
       "      <th>Class</th>\n",
       "    </tr>\n",
       "    <tr>\n",
       "      <th>Id</th>\n",
       "      <th></th>\n",
       "      <th></th>\n",
       "      <th></th>\n",
       "      <th></th>\n",
       "      <th></th>\n",
       "      <th></th>\n",
       "      <th></th>\n",
       "      <th></th>\n",
       "      <th></th>\n",
       "    </tr>\n",
       "  </thead>\n",
       "  <tbody>\n",
       "    <tr>\n",
       "      <th>5f11480a2d99b96663b97fdb</th>\n",
       "      <td>yen</td>\n",
       "      <td>0.265214</td>\n",
       "      <td>1.866963</td>\n",
       "      <td>13.192785</td>\n",
       "      <td>0.215541</td>\n",
       "      <td>1.711409</td>\n",
       "      <td>0.106493</td>\n",
       "      <td>9</td>\n",
       "      <td>2</td>\n",
       "    </tr>\n",
       "    <tr>\n",
       "      <th>5f15419a79e27502789bbbd1</th>\n",
       "      <td>yen</td>\n",
       "      <td>0.154306</td>\n",
       "      <td>5.648380</td>\n",
       "      <td>0.010033</td>\n",
       "      <td>0.184900</td>\n",
       "      <td>4.396552</td>\n",
       "      <td>0.355659</td>\n",
       "      <td>4</td>\n",
       "      <td>0</td>\n",
       "    </tr>\n",
       "    <tr>\n",
       "      <th>5f27c1cced3aa3f0c260b246</th>\n",
       "      <td>yen</td>\n",
       "      <td>0.012426</td>\n",
       "      <td>1.814439</td>\n",
       "      <td>2.246626</td>\n",
       "      <td>0.184488</td>\n",
       "      <td>1.734694</td>\n",
       "      <td>0.139754</td>\n",
       "      <td>1</td>\n",
       "      <td>0</td>\n",
       "    </tr>\n",
       "    <tr>\n",
       "      <th>5f30f7b9ed3aa3f0c260b563</th>\n",
       "      <td>yen</td>\n",
       "      <td>0.408562</td>\n",
       "      <td>4.563709</td>\n",
       "      <td>0.019553</td>\n",
       "      <td>0.220224</td>\n",
       "      <td>2.833333</td>\n",
       "      <td>0.162283</td>\n",
       "      <td>2</td>\n",
       "      <td>0</td>\n",
       "    </tr>\n",
       "    <tr>\n",
       "      <th>5f30fafded3aa3f0c260b6bc</th>\n",
       "      <td>yen</td>\n",
       "      <td>0.035861</td>\n",
       "      <td>2.068226</td>\n",
       "      <td>0.671646</td>\n",
       "      <td>0.160934</td>\n",
       "      <td>1.902985</td>\n",
       "      <td>0.130774</td>\n",
       "      <td>4</td>\n",
       "      <td>0</td>\n",
       "    </tr>\n",
       "  </tbody>\n",
       "</table>\n",
       "</div>"
      ],
      "text/plain": [
       "                         Threshold method  Threshold: area spread  \\\n",
       "Id                                                                  \n",
       "5f11480a2d99b96663b97fdb              yen                0.265214   \n",
       "5f15419a79e27502789bbbd1              yen                0.154306   \n",
       "5f27c1cced3aa3f0c260b246              yen                0.012426   \n",
       "5f30f7b9ed3aa3f0c260b563              yen                0.408562   \n",
       "5f30fafded3aa3f0c260b6bc              yen                0.035861   \n",
       "\n",
       "                          Threshold: border  Threshold: count  \\\n",
       "Id                                                              \n",
       "5f11480a2d99b96663b97fdb           1.866963         13.192785   \n",
       "5f15419a79e27502789bbbd1           5.648380          0.010033   \n",
       "5f27c1cced3aa3f0c260b246           1.814439          2.246626   \n",
       "5f30f7b9ed3aa3f0c260b563           4.563709          0.019553   \n",
       "5f30fafded3aa3f0c260b6bc           2.068226          0.671646   \n",
       "\n",
       "                          Threshold: fill  Threshold: intensity  \\\n",
       "Id                                                                \n",
       "5f11480a2d99b96663b97fdb         0.215541              1.711409   \n",
       "5f15419a79e27502789bbbd1         0.184900              4.396552   \n",
       "5f27c1cced3aa3f0c260b246         0.184488              1.734694   \n",
       "5f30f7b9ed3aa3f0c260b563         0.220224              2.833333   \n",
       "5f30fafded3aa3f0c260b6bc         0.160934              1.902985   \n",
       "\n",
       "                          Threshold: separation  User score  Class  \n",
       "Id                                                                  \n",
       "5f11480a2d99b96663b97fdb               0.106493           9      2  \n",
       "5f15419a79e27502789bbbd1               0.355659           4      0  \n",
       "5f27c1cced3aa3f0c260b246               0.139754           1      0  \n",
       "5f30f7b9ed3aa3f0c260b563               0.162283           2      0  \n",
       "5f30fafded3aa3f0c260b6bc               0.130774           4      0  "
      ]
     },
     "execution_count": 3,
     "metadata": {},
     "output_type": "execute_result"
    }
   ],
   "source": [
    "# Splitting function from Oscar\n",
    "def split_classes(n_classes = 3):\n",
    "    class_labels = []\n",
    "    \n",
    "    # Create sorted list of unique values in df['User score']\n",
    "    current_classes = np.sort(df['User score'].unique()) \n",
    "    \n",
    "    # Split this array in n_classes of same size\n",
    "    split = np.array_split(current_classes, n_classes) \n",
    "    \n",
    "    for row in df.iterrows(): # Iterate over every row in the dataframe\n",
    "        for label, class_ranges in enumerate(split): # Iterate over every sub array in split\n",
    "            if(row[1]['User score'] in class_ranges): # If user score for row is in sub array\n",
    "                class_labels.append(label) # Append class label to list\n",
    "    return class_labels # Return list with class labels\n",
    "\n",
    "# Create df with classes\n",
    "df = pd.read_csv('/datc/nano/notebooks/Target variable & Features (V3).csv', index_col = 0)\n",
    "df['Class'] = split_classes()\n",
    "\n",
    "# Creating dataframe with only yen values\n",
    "df_yen = df[df['Threshold method'] =='yen']\n",
    "\n",
    "print('Class 0: ', df_yen[df_yen['Class']==0]['User score'].count(), ' records')\n",
    "print('Class 1: ', df_yen[df_yen['Class']==1]['User score'].count(), ' records')\n",
    "print('Class 2: ', df_yen[df_yen['Class']==2]['User score'].count(), ' records')\n",
    "print('Class 3: ', df_yen[df_yen['Class']==3]['User score'].count(), ' records')\n",
    "\n",
    "df_yen.head()"
   ]
  },
  {
   "cell_type": "code",
   "execution_count": 5,
   "metadata": {
    "code_folding": [
     5
    ]
   },
   "outputs": [],
   "source": [
    "# Function to compare all feature combinations from Yoran\n",
    "\n",
    "attributes = ['Threshold: separation', 'Threshold: border', 'Threshold: area spread' , \n",
    "              'Threshold: fill', 'Threshold: count', 'Threshold: intensity']\n",
    "\n",
    "def all_subsets(ss):\n",
    "    return chain(*map(lambda x: combinations(ss, x), range(1, len(ss)+1)))\n",
    "\n",
    "subsets = list(all_subsets(attributes))\n",
    "accuracy_scores_all = []\n",
    "\n",
    "for subset in subsets:\n",
    "    \n",
    "    # Logistic Regression model by me:\n",
    "    \n",
    "    x = df_yen[list(subset)]\n",
    "    y = df_yen['Class']\n",
    "    \n",
    "    # Dividing into training and validation data\n",
    "    x_train, x_test, y_train, y_test = train_test_split(x, y, test_size=0.2, random_state=5)\n",
    "    \n",
    "    # Normalizing training data\n",
    "    scaler = StandardScaler()\n",
    "    x_train_array = scaler.fit_transform(x_train)\n",
    "    x_train = pd.DataFrame(x_train_array, index=x_train.index, columns=x_train.columns)\n",
    "    x_test_array = scaler.fit_transform(x_test)\n",
    "    x_test = pd.DataFrame(x_test_array, index=x_test.index, columns=x_test.columns)\n",
    "    \n",
    "    # Training model\n",
    "    model = LogisticRegression(multi_class='auto', random_state=0)\n",
    "    model.fit(x_train, y_train)\n",
    "    y_pred = model.predict(x_test)\n",
    "    \n",
    "    accuracy_scores_all.append(accuracy_score(y_test, y_pred))\n"
   ]
  },
  {
   "cell_type": "code",
   "execution_count": 5,
   "metadata": {},
   "outputs": [
    {
     "data": {
      "image/png": "[encoded data removed]",
      "text/plain": [
       "<Figure size 1080x360 with 1 Axes>"
      ]
     },
     "metadata": {
      "needs_background": "light"
     },
     "output_type": "display_data"
    }
   ],
   "source": [
    "# Visualizing the combinations (Code from Yoran)\n",
    "subset_labels = []\n",
    "for subset in subsets:\n",
    "    subset_label = ''\n",
    "    for i in range(len(subset)):\n",
    "        subset_label += subset[i][11]\n",
    "    subset_labels.append(subset_label)\n",
    "    \n",
    "plt.figure(figsize=(15,5))\n",
    "t = [(a, l) for a, l in zip(accuracy_scores_all, subset_labels)]\n",
    "t.sort()\n",
    "accuracy,labels = zip(*t)\n",
    "\n",
    "plt.bar(range(len(accuracy)), accuracy, tick_label=labels)\n",
    "plt.xticks(np.arange(len(accuracy)), labels, rotation=90)\n",
    "plt.grid(True, axis= 'y')\n",
    "plt.title('Accuracy comparison multiclass logistic regression model (3 classes)')\n",
    "plt.xlabel('Feature combinations')\n",
    "plt.ylabel('Accuracy')\n",
    "plt.show()"
   ]
  },
  {
   "cell_type": "markdown",
   "metadata": {},
   "source": [
    "# Output\n",
    "This file shows that using less features can actually be more advantageous than using every feature we were given and combining them all. \n",
    "Even though the results are not extremely promising, we decided to directly compare this model with other models in our experiment."
   ]
  },
  {
   "cell_type": "code",
   "execution_count": null,
   "metadata": {},
   "outputs": [],
   "source": []
  }
 ],
 "metadata": {
  "kernelspec": {
   "display_name": "Python 3",
   "language": "python",
   "name": "python3"
  },
  "language_info": {
   "codemirror_mode": {
    "name": "ipython",
    "version": 3
   },
   "file_extension": ".py",
   "mimetype": "text/x-python",
   "name": "python",
   "nbconvert_exporter": "python",
   "pygments_lexer": "ipython3",
   "version": "3.6.10"
  }
 },
 "nbformat": 4,
 "nbformat_minor": 4
}
