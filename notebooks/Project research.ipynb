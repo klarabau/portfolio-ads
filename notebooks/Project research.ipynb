{
 "cells": [
  {
   "cell_type": "markdown",
   "metadata": {},
   "source": [
    "# Project research\n",
    "\n",
    "### The project\n",
    "Database of thresholds, their scores and ratios. The score is like the profit in the lemonade stand example. A user evaluates how well it worked -> good score or bad score. If it's a bad score, another algorithm is applied.\n",
    "\n",
    "There is a correlation between calculated threshold metrics and thresholding methods that are selected.\n",
    "\n",
    "### Goal\n",
    "Create a Machine Learning model that predicts the best thresholding algorithm.\n",
    "\n",
    "### About VSParticle\n",
    "VSParticle makes nonparticle-based manufacturing as easy as possible. They provide research and industry with the tools to rapidly advance the field of nanotechnology. \n",
    "\n",
    "### Nanoparticles\n",
    "We now have a new way of changing the properties of high-tech materials by changing the size of the nanoparticles. \n",
    "Nanoparticles are particles from one single atom to atomic clusters / bulk crystals of 100nm or larger.\n",
    "\n",
    "### Thresholding\n",
    "- Global thresholding methods (histogram-derived) -> VSParticle\n",
    "    They analyse the peaks, valleys and curvatures of a smoothened histogram.\n",
    "- Local thresholding methods (threshold is computed for each pixel according to the image characteristics within a window of radius r around it)\n",
    "    Turns greyscale image into a bitmap with pixels either of value 0 (black) or 255 (white) -> binary image (each pixel either 0 or 1)\n",
    "\n",
    "#### Automatic thresholding:\n",
    "1.\tSelect initial threshold value, typically the mean 8-bit value of the original image.\n",
    "2.\tDivide the original image into two portions;\n",
    "    a.\tPixel values that are less than or equal to the threshold; background\n",
    "    b.\tPixel values greater than the threshold; foreground\n",
    "3.\tFind the average mean values of the two new images\n",
    "4.\tCalculate the new threshold by averaging the two means.\n",
    "5.\tIf the difference between the previous threshold value and the new threshold value are below a specified limit, you are finished. Otherwise apply the new threshold to the original image keep trying.\n",
    "\n",
    "<b>SEM</b>\n",
    "A scanning electron microscope (SEM) is a type of electron microscope that produces images of a sample by scanning the surface with a focused beam of electrons. ... The electron beam is scanned in a raster scan pattern, and the position of the beam is combined with the intensity of the detected signal to produce an image.\n",
    "\n",
    "<b>TEM</b>\n",
    "Transmission electron microscopy (TEM) is a microscopy technique in which a beam of electrons is transmitted through a specimen to form an image. The specimen is most often an ultrathin section less than 100 nm thick or a suspension on a grid.\n",
    "\n",
    "\n",
    "### Thresholding algorithms\n",
    "Most methods use image intensity Ii,j to determine whether a pixel turns white or black. If Ii,j is smaller than a fixed constant T, the pixel turns black.\n",
    "\n",
    "Yen algorithm implements thresholding based on a maximum correlation criterion as a more computationally efficient alternative to entropy measures.\n",
    "\n",
    "Li algorithm minimises the cross-entropy between the foreground and the background.\n",
    "https://scikit-image.org/docs/dev/auto_examples/developers/plot_threshold_li.html\n",
    "\n",
    "\n",
    "\n",
    "### Thresholding in Python\n",
    "https://cran.r-project.org/web/packages/autothresholdr/vignettes/finding-thresholds.html\n",
    "If you’re trying to threshold this sort of data, you’re probably looking for a method which will find a threshold that separates the larger values from the smaller ones. The available automatic thresholding methods are “IJDefault”, “Huang”, “Huang2”, “Intermodes”, “IsoData”, “Li”, “MaxEntropy”, “Mean”, “MinErrorI”, “Minimum”, “Moments”, “Otsu”, “Percentile”, “RenyiEntropy”, “Shanbhag”, “Triangle” and “Yen”. These are well demonstrated at http://imagej.net/Auto_Threshold.\n"
   ]
  },
  {
   "cell_type": "code",
   "execution_count": null,
   "metadata": {},
   "outputs": [],
   "source": []
  }
 ],
 "metadata": {
  "kernelspec": {
   "display_name": "Python 3",
   "language": "python",
   "name": "python3"
  },
  "language_info": {
   "codemirror_mode": {
    "name": "ipython",
    "version": 3
   },
   "file_extension": ".py",
   "mimetype": "text/x-python",
   "name": "python",
   "nbconvert_exporter": "python",
   "pygments_lexer": "ipython3",
   "version": "3.6.10"
  }
 },
 "nbformat": 4,
 "nbformat_minor": 4
}
