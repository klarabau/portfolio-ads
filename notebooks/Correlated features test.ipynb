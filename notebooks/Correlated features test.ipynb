{
 "cells": [
  {
   "cell_type": "markdown",
   "metadata": {},
   "source": [
    "# Input\n",
    "\n",
    "I created this file in order to see how closely correlated our (potential) features are. Especially after finding the best model to use and having a smaller feature selection, we still had problems finding out which feature combination was best to use: bcfis, cfis, or abcfis. I decided to check the correlation in order to filter out (almost) redundant features."
   ]
  },
  {
   "cell_type": "code",
   "execution_count": 2,
   "metadata": {},
   "outputs": [],
   "source": [
    "# Importing libraries \n",
    "import pandas as pd"
   ]
  },
  {
   "cell_type": "code",
   "execution_count": 3,
   "metadata": {},
   "outputs": [],
   "source": [
    "# Create df \n",
    "df = pd.read_csv('/datc/nano/notebooks/Target variable & Features (V3).csv', index_col = 0)\n",
    "df_yen = df[df['Threshold method'] =='yen']"
   ]
  },
  {
   "cell_type": "code",
   "execution_count": 5,
   "metadata": {},
   "outputs": [
    {
     "data": {
      "text/html": [
       "<div>\n",
       "<style scoped>\n",
       "    .dataframe tbody tr th:only-of-type {\n",
       "        vertical-align: middle;\n",
       "    }\n",
       "\n",
       "    .dataframe tbody tr th {\n",
       "        vertical-align: top;\n",
       "    }\n",
       "\n",
       "    .dataframe thead th {\n",
       "        text-align: right;\n",
       "    }\n",
       "</style>\n",
       "<table border=\"1\" class=\"dataframe\">\n",
       "  <thead>\n",
       "    <tr style=\"text-align: right;\">\n",
       "      <th></th>\n",
       "      <th>Threshold: area spread</th>\n",
       "      <th>Threshold: border</th>\n",
       "      <th>Threshold: count</th>\n",
       "      <th>Threshold: fill</th>\n",
       "      <th>Threshold: intensity</th>\n",
       "      <th>Threshold: separation</th>\n",
       "      <th>User score</th>\n",
       "    </tr>\n",
       "  </thead>\n",
       "  <tbody>\n",
       "    <tr>\n",
       "      <th>Threshold: area spread</th>\n",
       "      <td>1.000000</td>\n",
       "      <td>-0.344753</td>\n",
       "      <td>0.212316</td>\n",
       "      <td>0.744532</td>\n",
       "      <td>0.268243</td>\n",
       "      <td>-0.442252</td>\n",
       "      <td>-0.084862</td>\n",
       "    </tr>\n",
       "    <tr>\n",
       "      <th>Threshold: border</th>\n",
       "      <td>-0.344753</td>\n",
       "      <td>1.000000</td>\n",
       "      <td>-0.131294</td>\n",
       "      <td>-0.227332</td>\n",
       "      <td>0.483548</td>\n",
       "      <td>0.717162</td>\n",
       "      <td>0.190775</td>\n",
       "    </tr>\n",
       "    <tr>\n",
       "      <th>Threshold: count</th>\n",
       "      <td>0.212316</td>\n",
       "      <td>-0.131294</td>\n",
       "      <td>1.000000</td>\n",
       "      <td>0.088510</td>\n",
       "      <td>-0.263698</td>\n",
       "      <td>-0.129949</td>\n",
       "      <td>0.005750</td>\n",
       "    </tr>\n",
       "    <tr>\n",
       "      <th>Threshold: fill</th>\n",
       "      <td>0.744532</td>\n",
       "      <td>-0.227332</td>\n",
       "      <td>0.088510</td>\n",
       "      <td>1.000000</td>\n",
       "      <td>0.394750</td>\n",
       "      <td>-0.304721</td>\n",
       "      <td>-0.071481</td>\n",
       "    </tr>\n",
       "    <tr>\n",
       "      <th>Threshold: intensity</th>\n",
       "      <td>0.268243</td>\n",
       "      <td>0.483548</td>\n",
       "      <td>-0.263698</td>\n",
       "      <td>0.394750</td>\n",
       "      <td>1.000000</td>\n",
       "      <td>0.198310</td>\n",
       "      <td>0.104806</td>\n",
       "    </tr>\n",
       "    <tr>\n",
       "      <th>Threshold: separation</th>\n",
       "      <td>-0.442252</td>\n",
       "      <td>0.717162</td>\n",
       "      <td>-0.129949</td>\n",
       "      <td>-0.304721</td>\n",
       "      <td>0.198310</td>\n",
       "      <td>1.000000</td>\n",
       "      <td>0.382772</td>\n",
       "    </tr>\n",
       "    <tr>\n",
       "      <th>User score</th>\n",
       "      <td>-0.084862</td>\n",
       "      <td>0.190775</td>\n",
       "      <td>0.005750</td>\n",
       "      <td>-0.071481</td>\n",
       "      <td>0.104806</td>\n",
       "      <td>0.382772</td>\n",
       "      <td>1.000000</td>\n",
       "    </tr>\n",
       "  </tbody>\n",
       "</table>\n",
       "</div>"
      ],
      "text/plain": [
       "                        Threshold: area spread  Threshold: border  \\\n",
       "Threshold: area spread                1.000000          -0.344753   \n",
       "Threshold: border                    -0.344753           1.000000   \n",
       "Threshold: count                      0.212316          -0.131294   \n",
       "Threshold: fill                       0.744532          -0.227332   \n",
       "Threshold: intensity                  0.268243           0.483548   \n",
       "Threshold: separation                -0.442252           0.717162   \n",
       "User score                           -0.084862           0.190775   \n",
       "\n",
       "                        Threshold: count  Threshold: fill  \\\n",
       "Threshold: area spread          0.212316         0.744532   \n",
       "Threshold: border              -0.131294        -0.227332   \n",
       "Threshold: count                1.000000         0.088510   \n",
       "Threshold: fill                 0.088510         1.000000   \n",
       "Threshold: intensity           -0.263698         0.394750   \n",
       "Threshold: separation          -0.129949        -0.304721   \n",
       "User score                      0.005750        -0.071481   \n",
       "\n",
       "                        Threshold: intensity  Threshold: separation  \\\n",
       "Threshold: area spread              0.268243              -0.442252   \n",
       "Threshold: border                   0.483548               0.717162   \n",
       "Threshold: count                   -0.263698              -0.129949   \n",
       "Threshold: fill                     0.394750              -0.304721   \n",
       "Threshold: intensity                1.000000               0.198310   \n",
       "Threshold: separation               0.198310               1.000000   \n",
       "User score                          0.104806               0.382772   \n",
       "\n",
       "                        User score  \n",
       "Threshold: area spread   -0.084862  \n",
       "Threshold: border         0.190775  \n",
       "Threshold: count          0.005750  \n",
       "Threshold: fill          -0.071481  \n",
       "Threshold: intensity      0.104806  \n",
       "Threshold: separation     0.382772  \n",
       "User score                1.000000  "
      ]
     },
     "execution_count": 5,
     "metadata": {},
     "output_type": "execute_result"
    }
   ],
   "source": [
    "df_yen.corr()"
   ]
  },
  {
   "cell_type": "markdown",
   "metadata": {},
   "source": [
    "## Output\n",
    "\n",
    "The correlation between all potential features shows that border and separation, as well as area spread and fill, are most closely related to each other. Therefore, we can assume that the model performs better in the long-term with using \"cfis\" instead of \"bcifs\" since \"bcfis\" includes border **and** separation, and \"abcfis\" even includes area spread **and** fill. Therefore, \"bcfis\" could lead to problems like non-convergeance and an unecessarily complex model."
   ]
  },
  {
   "cell_type": "code",
   "execution_count": null,
   "metadata": {},
   "outputs": [],
   "source": []
  }
 ],
 "metadata": {
  "kernelspec": {
   "display_name": "Python 3",
   "language": "python",
   "name": "python3"
  },
  "language_info": {
   "codemirror_mode": {
    "name": "ipython",
    "version": 3
   },
   "file_extension": ".py",
   "mimetype": "text/x-python",
   "name": "python",
   "nbconvert_exporter": "python",
   "pygments_lexer": "ipython3",
   "version": "3.6.10"
  }
 },
 "nbformat": 4,
 "nbformat_minor": 4
}
