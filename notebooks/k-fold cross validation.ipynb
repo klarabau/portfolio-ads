{
 "cells": [
  {
   "cell_type": "markdown",
   "metadata": {},
   "source": [
    "# Input\n",
    "\n",
    "I researched and created this proof of concept for n-fold cross validation for us to implement in our experiment. "
   ]
  },
  {
   "cell_type": "code",
   "execution_count": 7,
   "metadata": {},
   "outputs": [],
   "source": [
    "# Importing libraries \n",
    "import pandas as pd\n",
    "import numpy as np\n",
    "from sklearn.model_selection import KFold\n",
    "from sklearn.model_selection import RepeatedKFold\n",
    "from sklearn.metrics import accuracy_score\n",
    "from sklearn.model_selection import cross_val_score\n",
    "from sklearn.linear_model import LogisticRegression\n",
    "from sklearn.metrics import mean_absolute_error \n",
    "\n",
    "from numpy import mean\n",
    "from numpy import std"
   ]
  },
  {
   "cell_type": "code",
   "execution_count": 8,
   "metadata": {},
   "outputs": [],
   "source": [
    "# Create df \n",
    "df = pd.read_csv('/datc/nano/notebooks/Target variable & Features (V3).csv', index_col = 0)\n",
    "df_yen = df[df['Threshold method'] =='yen']\n",
    "df_yen.head()\n",
    "\n",
    "x = df_yen[['Threshold: separation', 'Threshold: intensity', 'Threshold: fill', 'Threshold: count', 'Threshold: border', 'Threshold: area spread']]\n",
    "y = df_yen[['User score']]"
   ]
  },
  {
   "cell_type": "markdown",
   "metadata": {},
   "source": [
    "# k-fold cross validation\n",
    "\n",
    "Source: https://machinelearningmastery.com/k-fold-cross-validation/\n",
    "\n",
    "Any preparation of the data prior to fitting the model occur on the CV-assigned training dataset within the loop rather than on the broader data set. This also applies to any tuning of hyperparameters. \n",
    "\n",
    "How many folds are a good fit?\n",
    "- k=10: 10 folds has been found through experimentation to generally result in a model skill estimate with low bias a modest variance.\n",
    "- k=n: Number of experiments with the dataset, so that each validation set gets used for one experiment."
   ]
  },
  {
   "cell_type": "code",
   "execution_count": 10,
   "metadata": {},
   "outputs": [
    {
     "name": "stdout",
     "output_type": "stream",
     "text": [
      "3.390350877192983\n",
      "0.10327635327635327\n"
     ]
    }
   ],
   "source": [
    "# Cross validation\n",
    "kf = KFold(n_splits=3, random_state=42, shuffle=True)\n",
    "\n",
    "kf_mae = []\n",
    "kf_scores = []\n",
    "\n",
    "for train_ind, valid_ind in kf.split(x):\n",
    "    train_x = x.iloc[train_ind].to_numpy()\n",
    "    valid_x = x.iloc[valid_ind].to_numpy()\n",
    "    train_y = y.iloc[train_ind].to_numpy()\n",
    "    valid_y = y.iloc[valid_ind].to_numpy()\n",
    "    \n",
    "    # Model\n",
    "    model = LogisticRegression(multi_class='auto', random_state=0, max_iter=5000, class_weight='balanced')\n",
    "    model.fit(train_x, train_y.ravel())\n",
    "    y_pred = model.predict(valid_x)\n",
    "   \n",
    "    # MAE\n",
    "    mse = mean_absolute_error(valid_y, y_pred)\n",
    "    kf_mae.append((mse))\n",
    "    \n",
    "    # Scores\n",
    "    scores = cross_val_score(model, train_x, train_y, scoring='accuracy', cv=kf, n_jobs=-1)\n",
    "    kf_scores.append(mean(scores))\n",
    "\n",
    "# Mean MAE\n",
    "mae_mean = sum(kf_mae)/len(kf_mae)\n",
    "print(mae_mean)\n",
    "\n",
    "# Mean cross-val-score\n",
    "scores_mean = sum(kf_scores)/len(kf_scores)\n",
    "print(scores_mean)"
   ]
  },
  {
   "cell_type": "markdown",
   "metadata": {},
   "source": [
    "## Output\n",
    "\n",
    "The research on the number of folds was considered for our experiment, but not chosen finally. Instead, we went with 5 folds."
   ]
  },
  {
   "cell_type": "code",
   "execution_count": null,
   "metadata": {},
   "outputs": [],
   "source": []
  }
 ],
 "metadata": {
  "kernelspec": {
   "display_name": "Python 3",
   "language": "python",
   "name": "python3"
  },
  "language_info": {
   "codemirror_mode": {
    "name": "ipython",
    "version": 3
   },
   "file_extension": ".py",
   "mimetype": "text/x-python",
   "name": "python",
   "nbconvert_exporter": "python",
   "pygments_lexer": "ipython3",
   "version": "3.6.10"
  }
 },
 "nbformat": 4,
 "nbformat_minor": 4
}
