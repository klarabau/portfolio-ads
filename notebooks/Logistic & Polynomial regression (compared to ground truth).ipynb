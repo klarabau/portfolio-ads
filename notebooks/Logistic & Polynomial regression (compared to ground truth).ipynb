{
 "cells": [
  {
   "cell_type": "markdown",
   "metadata": {},
   "source": [
    "# Input\n",
    "After having focused on a classification problem due to multiple reasons, our problem owner suggested to look into Logistic/Polynomial Regression again. His reasoning was that a regression model can rank the predictions, for example it knows that a 9 is better than a 5. In this file I therefore compare the ground truth to the predictions made with a logistic regression model compared to polynomial regression."
   ]
  },
  {
   "cell_type": "code",
   "execution_count": 2,
   "metadata": {},
   "outputs": [],
   "source": [
    "# Importing libraries \n",
    "import pandas as pd\n",
    "import matplotlib\n",
    "import matplotlib.pyplot as plt\n",
    "import numpy as np\n",
    "import seaborn as sns\n",
    "import random\n",
    "from ml import *\n",
    "\n",
    "from sklearn.preprocessing import PolynomialFeatures\n",
    "from sklearn.pipeline import make_pipeline\n",
    "from sklearn.model_selection import train_test_split\n",
    "from sklearn.metrics import f1_score\n",
    "from sklearn.linear_model import LogisticRegression\n",
    "from sklearn.preprocessing import StandardScaler\n",
    "from sklearn.metrics import classification_report, accuracy_score\n",
    "from scipy.special import expit"
   ]
  },
  {
   "cell_type": "code",
   "execution_count": 3,
   "metadata": {
    "code_folding": [
     1
    ]
   },
   "outputs": [
    {
     "data": {
      "text/html": [
       "<div>\n",
       "<style scoped>\n",
       "    .dataframe tbody tr th:only-of-type {\n",
       "        vertical-align: middle;\n",
       "    }\n",
       "\n",
       "    .dataframe tbody tr th {\n",
       "        vertical-align: top;\n",
       "    }\n",
       "\n",
       "    .dataframe thead th {\n",
       "        text-align: right;\n",
       "    }\n",
       "</style>\n",
       "<table border=\"1\" class=\"dataframe\">\n",
       "  <thead>\n",
       "    <tr style=\"text-align: right;\">\n",
       "      <th></th>\n",
       "      <th>Threshold method</th>\n",
       "      <th>Threshold: area spread</th>\n",
       "      <th>Threshold: border</th>\n",
       "      <th>Threshold: count</th>\n",
       "      <th>Threshold: fill</th>\n",
       "      <th>Threshold: intensity</th>\n",
       "      <th>Threshold: separation</th>\n",
       "      <th>User score</th>\n",
       "    </tr>\n",
       "    <tr>\n",
       "      <th>Id</th>\n",
       "      <th></th>\n",
       "      <th></th>\n",
       "      <th></th>\n",
       "      <th></th>\n",
       "      <th></th>\n",
       "      <th></th>\n",
       "      <th></th>\n",
       "      <th></th>\n",
       "    </tr>\n",
       "  </thead>\n",
       "  <tbody>\n",
       "    <tr>\n",
       "      <th>5f11480a2d99b96663b97fdb</th>\n",
       "      <td>yen</td>\n",
       "      <td>0.265214</td>\n",
       "      <td>1.866963</td>\n",
       "      <td>13.192785</td>\n",
       "      <td>0.215541</td>\n",
       "      <td>1.711409</td>\n",
       "      <td>0.106493</td>\n",
       "      <td>9</td>\n",
       "    </tr>\n",
       "    <tr>\n",
       "      <th>5f15419a79e27502789bbbd1</th>\n",
       "      <td>yen</td>\n",
       "      <td>0.154306</td>\n",
       "      <td>5.648380</td>\n",
       "      <td>0.010033</td>\n",
       "      <td>0.184900</td>\n",
       "      <td>4.396552</td>\n",
       "      <td>0.355659</td>\n",
       "      <td>4</td>\n",
       "    </tr>\n",
       "    <tr>\n",
       "      <th>5f27c1cced3aa3f0c260b246</th>\n",
       "      <td>yen</td>\n",
       "      <td>0.012426</td>\n",
       "      <td>1.814439</td>\n",
       "      <td>2.246626</td>\n",
       "      <td>0.184488</td>\n",
       "      <td>1.734694</td>\n",
       "      <td>0.139754</td>\n",
       "      <td>1</td>\n",
       "    </tr>\n",
       "    <tr>\n",
       "      <th>5f30f7b9ed3aa3f0c260b563</th>\n",
       "      <td>yen</td>\n",
       "      <td>0.408562</td>\n",
       "      <td>4.563709</td>\n",
       "      <td>0.019553</td>\n",
       "      <td>0.220224</td>\n",
       "      <td>2.833333</td>\n",
       "      <td>0.162283</td>\n",
       "      <td>2</td>\n",
       "    </tr>\n",
       "    <tr>\n",
       "      <th>5f30fafded3aa3f0c260b6bc</th>\n",
       "      <td>yen</td>\n",
       "      <td>0.035861</td>\n",
       "      <td>2.068226</td>\n",
       "      <td>0.671646</td>\n",
       "      <td>0.160934</td>\n",
       "      <td>1.902985</td>\n",
       "      <td>0.130774</td>\n",
       "      <td>4</td>\n",
       "    </tr>\n",
       "  </tbody>\n",
       "</table>\n",
       "</div>"
      ],
      "text/plain": [
       "                         Threshold method  Threshold: area spread  \\\n",
       "Id                                                                  \n",
       "5f11480a2d99b96663b97fdb              yen                0.265214   \n",
       "5f15419a79e27502789bbbd1              yen                0.154306   \n",
       "5f27c1cced3aa3f0c260b246              yen                0.012426   \n",
       "5f30f7b9ed3aa3f0c260b563              yen                0.408562   \n",
       "5f30fafded3aa3f0c260b6bc              yen                0.035861   \n",
       "\n",
       "                          Threshold: border  Threshold: count  \\\n",
       "Id                                                              \n",
       "5f11480a2d99b96663b97fdb           1.866963         13.192785   \n",
       "5f15419a79e27502789bbbd1           5.648380          0.010033   \n",
       "5f27c1cced3aa3f0c260b246           1.814439          2.246626   \n",
       "5f30f7b9ed3aa3f0c260b563           4.563709          0.019553   \n",
       "5f30fafded3aa3f0c260b6bc           2.068226          0.671646   \n",
       "\n",
       "                          Threshold: fill  Threshold: intensity  \\\n",
       "Id                                                                \n",
       "5f11480a2d99b96663b97fdb         0.215541              1.711409   \n",
       "5f15419a79e27502789bbbd1         0.184900              4.396552   \n",
       "5f27c1cced3aa3f0c260b246         0.184488              1.734694   \n",
       "5f30f7b9ed3aa3f0c260b563         0.220224              2.833333   \n",
       "5f30fafded3aa3f0c260b6bc         0.160934              1.902985   \n",
       "\n",
       "                          Threshold: separation  User score  \n",
       "Id                                                           \n",
       "5f11480a2d99b96663b97fdb               0.106493           9  \n",
       "5f15419a79e27502789bbbd1               0.355659           4  \n",
       "5f27c1cced3aa3f0c260b246               0.139754           1  \n",
       "5f30f7b9ed3aa3f0c260b563               0.162283           2  \n",
       "5f30fafded3aa3f0c260b6bc               0.130774           4  "
      ]
     },
     "execution_count": 3,
     "metadata": {},
     "output_type": "execute_result"
    }
   ],
   "source": [
    "# Create df \n",
    "df = pd.read_csv('/datc/nano/notebooks/Target variable & Features (V3).csv', index_col = 0)\n",
    "\n",
    "# Creating dataframe with only yen values\n",
    "df_yen = df[df['Threshold method'] =='yen']\n",
    "df_yen.head()"
   ]
  },
  {
   "cell_type": "code",
   "execution_count": 4,
   "metadata": {
    "code_folding": []
   },
   "outputs": [
    {
     "name": "stdout",
     "output_type": "stream",
     "text": [
      "User score\n",
      "8             2\n",
      "7             2\n",
      "6             2\n",
      "1             2\n",
      "10            1\n",
      "9             1\n",
      "4             1\n",
      "3             1\n",
      "dtype: int64\n"
     ]
    }
   ],
   "source": [
    "# Dividing into training and validation data\n",
    "x = df_yen[['Threshold: separation', 'Threshold: border']]\n",
    "y = df_yen[['User score']]\n",
    "x_train, x_test, y_train, y_test = train_test_split(x, y, test_size=0.2, random_state=5)\n",
    "\n",
    "print(y_test.value_counts())"
   ]
  },
  {
   "cell_type": "code",
   "execution_count": 5,
   "metadata": {
    "code_folding": [
     0
    ]
   },
   "outputs": [],
   "source": [
    "# # Normalizing training data\n",
    "\n",
    "# scaler = StandardScaler()\n",
    "# x_train_array = scaler.fit_transform(x_train)\n",
    "# x_train = pd.DataFrame(x_train_array, index=x_train.index, columns=x_train.columns)\n",
    "\n",
    "# #sns.pairplot(x_train)"
   ]
  },
  {
   "cell_type": "markdown",
   "metadata": {},
   "source": [
    "# Logistic regression (10 classes)"
   ]
  },
  {
   "cell_type": "code",
   "execution_count": 6,
   "metadata": {
    "code_folding": []
   },
   "outputs": [
    {
     "data": {
      "text/plain": [
       "LogisticRegression(random_state=0)"
      ]
     },
     "execution_count": 6,
     "metadata": {},
     "output_type": "execute_result"
    }
   ],
   "source": [
    "# Training model\n",
    "model = LogisticRegression(multi_class='auto', random_state=0)\n",
    "model.fit(x_train, y_train)"
   ]
  },
  {
   "cell_type": "markdown",
   "metadata": {},
   "source": [
    "### Comparison to ground truth (LogReg)"
   ]
  },
  {
   "cell_type": "code",
   "execution_count": 7,
   "metadata": {
    "code_folding": [
     0
    ]
   },
   "outputs": [],
   "source": [
    "# # Training set\n",
    "# compare_log = y_train.copy()\n",
    "# compare_log['Predicted score'] = model.predict(x_train)\n",
    "\n",
    "# def highlight(val):\n",
    "#     if val['User score'] == val['Predicted score']:\n",
    "#         return ['background: green']*2 #because the green is \"True\" for one column by default but we have 2\n",
    "#     elif val['User score'] == val['Predicted score']+1:\n",
    "#         return ['background: yellow']*2\n",
    "#     elif val['User score'] == val['Predicted score']-1:\n",
    "#         return ['background: yellow']*2\n",
    "#     else:\n",
    "#         return ['background: red']*2\n",
    "    \n",
    "# compare_log.style.apply(highlight, axis=1)"
   ]
  },
  {
   "cell_type": "code",
   "execution_count": 8,
   "metadata": {},
   "outputs": [
    {
     "data": {
      "text/html": [
       "<style  type=\"text/css\" >\n",
       "#T_86407f34_3a18_11eb_b7fc_000af7b6a54frow0_col0,#T_86407f34_3a18_11eb_b7fc_000af7b6a54frow0_col1,#T_86407f34_3a18_11eb_b7fc_000af7b6a54frow2_col0,#T_86407f34_3a18_11eb_b7fc_000af7b6a54frow2_col1,#T_86407f34_3a18_11eb_b7fc_000af7b6a54frow5_col0,#T_86407f34_3a18_11eb_b7fc_000af7b6a54frow5_col1,#T_86407f34_3a18_11eb_b7fc_000af7b6a54frow9_col0,#T_86407f34_3a18_11eb_b7fc_000af7b6a54frow9_col1{\n",
       "            background:  red;\n",
       "        }#T_86407f34_3a18_11eb_b7fc_000af7b6a54frow1_col0,#T_86407f34_3a18_11eb_b7fc_000af7b6a54frow1_col1,#T_86407f34_3a18_11eb_b7fc_000af7b6a54frow3_col0,#T_86407f34_3a18_11eb_b7fc_000af7b6a54frow3_col1,#T_86407f34_3a18_11eb_b7fc_000af7b6a54frow6_col0,#T_86407f34_3a18_11eb_b7fc_000af7b6a54frow6_col1,#T_86407f34_3a18_11eb_b7fc_000af7b6a54frow7_col0,#T_86407f34_3a18_11eb_b7fc_000af7b6a54frow7_col1,#T_86407f34_3a18_11eb_b7fc_000af7b6a54frow8_col0,#T_86407f34_3a18_11eb_b7fc_000af7b6a54frow8_col1,#T_86407f34_3a18_11eb_b7fc_000af7b6a54frow10_col0,#T_86407f34_3a18_11eb_b7fc_000af7b6a54frow10_col1{\n",
       "            background:  yellow;\n",
       "        }#T_86407f34_3a18_11eb_b7fc_000af7b6a54frow4_col0,#T_86407f34_3a18_11eb_b7fc_000af7b6a54frow4_col1,#T_86407f34_3a18_11eb_b7fc_000af7b6a54frow11_col0,#T_86407f34_3a18_11eb_b7fc_000af7b6a54frow11_col1{\n",
       "            background:  green;\n",
       "        }</style><table id=\"T_86407f34_3a18_11eb_b7fc_000af7b6a54f\" ><thead>    <tr>        <th class=\"blank level0\" ></th>        <th class=\"col_heading level0 col0\" >User score</th>        <th class=\"col_heading level0 col1\" >Predicted score</th>    </tr>    <tr>        <th class=\"index_name level0\" >Id</th>        <th class=\"blank\" ></th>        <th class=\"blank\" ></th>    </tr></thead><tbody>\n",
       "                <tr>\n",
       "                        <th id=\"T_86407f34_3a18_11eb_b7fc_000af7b6a54flevel0_row0\" class=\"row_heading level0 row0\" >5f491885298cf94b214e8f40</th>\n",
       "                        <td id=\"T_86407f34_3a18_11eb_b7fc_000af7b6a54frow0_col0\" class=\"data row0 col0\" >3</td>\n",
       "                        <td id=\"T_86407f34_3a18_11eb_b7fc_000af7b6a54frow0_col1\" class=\"data row0 col1\" >9</td>\n",
       "            </tr>\n",
       "            <tr>\n",
       "                        <th id=\"T_86407f34_3a18_11eb_b7fc_000af7b6a54flevel0_row1\" class=\"row_heading level0 row1\" >5f4caa47298cf94b214e9991</th>\n",
       "                        <td id=\"T_86407f34_3a18_11eb_b7fc_000af7b6a54frow1_col0\" class=\"data row1 col0\" >6</td>\n",
       "                        <td id=\"T_86407f34_3a18_11eb_b7fc_000af7b6a54frow1_col1\" class=\"data row1 col1\" >8</td>\n",
       "            </tr>\n",
       "            <tr>\n",
       "                        <th id=\"T_86407f34_3a18_11eb_b7fc_000af7b6a54flevel0_row2\" class=\"row_heading level0 row2\" >5f491c1d298cf94b214e90a4</th>\n",
       "                        <td id=\"T_86407f34_3a18_11eb_b7fc_000af7b6a54frow2_col0\" class=\"data row2 col0\" >1</td>\n",
       "                        <td id=\"T_86407f34_3a18_11eb_b7fc_000af7b6a54frow2_col1\" class=\"data row2 col1\" >9</td>\n",
       "            </tr>\n",
       "            <tr>\n",
       "                        <th id=\"T_86407f34_3a18_11eb_b7fc_000af7b6a54flevel0_row3\" class=\"row_heading level0 row3\" >5f4cb652298cf94b214ea0a8</th>\n",
       "                        <td id=\"T_86407f34_3a18_11eb_b7fc_000af7b6a54frow3_col0\" class=\"data row3 col0\" >6</td>\n",
       "                        <td id=\"T_86407f34_3a18_11eb_b7fc_000af7b6a54frow3_col1\" class=\"data row3 col1\" >8</td>\n",
       "            </tr>\n",
       "            <tr>\n",
       "                        <th id=\"T_86407f34_3a18_11eb_b7fc_000af7b6a54flevel0_row4\" class=\"row_heading level0 row4\" >5f4cb886298cf94b214ea3ca</th>\n",
       "                        <td id=\"T_86407f34_3a18_11eb_b7fc_000af7b6a54frow4_col0\" class=\"data row4 col0\" >8</td>\n",
       "                        <td id=\"T_86407f34_3a18_11eb_b7fc_000af7b6a54frow4_col1\" class=\"data row4 col1\" >8</td>\n",
       "            </tr>\n",
       "            <tr>\n",
       "                        <th id=\"T_86407f34_3a18_11eb_b7fc_000af7b6a54flevel0_row5\" class=\"row_heading level0 row5\" >5f4629d78d62faf2c4d4e268</th>\n",
       "                        <td id=\"T_86407f34_3a18_11eb_b7fc_000af7b6a54frow5_col0\" class=\"data row5 col0\" >1</td>\n",
       "                        <td id=\"T_86407f34_3a18_11eb_b7fc_000af7b6a54frow5_col1\" class=\"data row5 col1\" >8</td>\n",
       "            </tr>\n",
       "            <tr>\n",
       "                        <th id=\"T_86407f34_3a18_11eb_b7fc_000af7b6a54flevel0_row6\" class=\"row_heading level0 row6\" >5f4caa60298cf94b214e99a8</th>\n",
       "                        <td id=\"T_86407f34_3a18_11eb_b7fc_000af7b6a54frow6_col0\" class=\"data row6 col0\" >10</td>\n",
       "                        <td id=\"T_86407f34_3a18_11eb_b7fc_000af7b6a54frow6_col1\" class=\"data row6 col1\" >8</td>\n",
       "            </tr>\n",
       "            <tr>\n",
       "                        <th id=\"T_86407f34_3a18_11eb_b7fc_000af7b6a54flevel0_row7\" class=\"row_heading level0 row7\" >5f4911a5298cf94b214e8967</th>\n",
       "                        <td id=\"T_86407f34_3a18_11eb_b7fc_000af7b6a54frow7_col0\" class=\"data row7 col0\" >9</td>\n",
       "                        <td id=\"T_86407f34_3a18_11eb_b7fc_000af7b6a54frow7_col1\" class=\"data row7 col1\" >8</td>\n",
       "            </tr>\n",
       "            <tr>\n",
       "                        <th id=\"T_86407f34_3a18_11eb_b7fc_000af7b6a54flevel0_row8\" class=\"row_heading level0 row8\" >5f48ee847495efe38e28c50b</th>\n",
       "                        <td id=\"T_86407f34_3a18_11eb_b7fc_000af7b6a54frow8_col0\" class=\"data row8 col0\" >7</td>\n",
       "                        <td id=\"T_86407f34_3a18_11eb_b7fc_000af7b6a54frow8_col1\" class=\"data row8 col1\" >8</td>\n",
       "            </tr>\n",
       "            <tr>\n",
       "                        <th id=\"T_86407f34_3a18_11eb_b7fc_000af7b6a54flevel0_row9\" class=\"row_heading level0 row9\" >5f491278298cf94b214e8b6e</th>\n",
       "                        <td id=\"T_86407f34_3a18_11eb_b7fc_000af7b6a54frow9_col0\" class=\"data row9 col0\" >4</td>\n",
       "                        <td id=\"T_86407f34_3a18_11eb_b7fc_000af7b6a54frow9_col1\" class=\"data row9 col1\" >1</td>\n",
       "            </tr>\n",
       "            <tr>\n",
       "                        <th id=\"T_86407f34_3a18_11eb_b7fc_000af7b6a54flevel0_row10\" class=\"row_heading level0 row10\" >5f48ed957495efe38e28c363</th>\n",
       "                        <td id=\"T_86407f34_3a18_11eb_b7fc_000af7b6a54frow10_col0\" class=\"data row10 col0\" >7</td>\n",
       "                        <td id=\"T_86407f34_3a18_11eb_b7fc_000af7b6a54frow10_col1\" class=\"data row10 col1\" >8</td>\n",
       "            </tr>\n",
       "            <tr>\n",
       "                        <th id=\"T_86407f34_3a18_11eb_b7fc_000af7b6a54flevel0_row11\" class=\"row_heading level0 row11\" >5f4cab36298cf94b214e9b52</th>\n",
       "                        <td id=\"T_86407f34_3a18_11eb_b7fc_000af7b6a54frow11_col0\" class=\"data row11 col0\" >8</td>\n",
       "                        <td id=\"T_86407f34_3a18_11eb_b7fc_000af7b6a54frow11_col1\" class=\"data row11 col1\" >8</td>\n",
       "            </tr>\n",
       "    </tbody></table>"
      ],
      "text/plain": [
       "<pandas.io.formats.style.Styler at 0x7f557d34dbe0>"
      ]
     },
     "execution_count": 8,
     "metadata": {},
     "output_type": "execute_result"
    }
   ],
   "source": [
    "# Test set\n",
    "#x_test = scaler.transform(x_test)\n",
    "compare_log = y_test.copy()\n",
    "compare_log['Predicted score'] = model.predict(x_test)\n",
    "\n",
    "def highlight(val):\n",
    "    if val['User score'] == val['Predicted score']:\n",
    "        return ['background: green']*2 #because the green is \"True\" for one column by default but we have 2\n",
    "    elif val['User score'] == val['Predicted score']+1 or val['User score'] == val['Predicted score']+2:\n",
    "        return ['background: yellow']*2\n",
    "    elif val['User score'] == val['Predicted score']-1 or val['User score'] == val['Predicted score']-2:\n",
    "        return ['background: yellow']*2\n",
    "    else:\n",
    "        return ['background: red']*2\n",
    "    \n",
    "compare_log.style.apply(highlight, axis=1)"
   ]
  },
  {
   "cell_type": "markdown",
   "metadata": {},
   "source": [
    "# Polynomial regression"
   ]
  },
  {
   "cell_type": "code",
   "execution_count": 9,
   "metadata": {},
   "outputs": [
    {
     "data": {
      "text/plain": [
       "LinearRegression()"
      ]
     },
     "execution_count": 9,
     "metadata": {},
     "output_type": "execute_result"
    }
   ],
   "source": [
    "# Creating polynomial\n",
    "poly = PolynomialFeatures(degree=4, include_bias=False)\n",
    "x2_train = poly.fit_transform(x_train)\n",
    "x2_test = poly.transform(x_test)\n",
    "\n",
    "# Creating model\n",
    "model = LinearRegression()\n",
    "model.fit(x2_train, y_train)"
   ]
  },
  {
   "cell_type": "code",
   "execution_count": 10,
   "metadata": {
    "code_folding": [
     0
    ]
   },
   "outputs": [],
   "source": [
    "# # Training set\n",
    "# compare_pol = y_train.copy()\n",
    "# compare_pol['Predicted score'] = model.predict(x2_train).round()\n",
    "\n",
    "# def highlight(val):\n",
    "#     if val['User score'] == val['Predicted score']:\n",
    "#         return ['background: green']*2 #because the green is \"True\" for one column by default but we have 2\n",
    "#     elif val['User score'] == val['Predicted score']+1:\n",
    "#         return ['background: yellow']*2\n",
    "#     elif val['User score'] == val['Predicted score']-1:\n",
    "#         return ['background: yellow']*2\n",
    "#     else:\n",
    "#         return ['background: red']*2\n",
    "    \n",
    "# compare_pol.style.apply(highlight, axis=1)"
   ]
  },
  {
   "cell_type": "code",
   "execution_count": 11,
   "metadata": {},
   "outputs": [
    {
     "data": {
      "text/html": [
       "<style  type=\"text/css\" >\n",
       "#T_88604b82_3a18_11eb_b7fc_000af7b6a54frow0_col0,#T_88604b82_3a18_11eb_b7fc_000af7b6a54frow0_col1{\n",
       "            background:  green;\n",
       "        }#T_88604b82_3a18_11eb_b7fc_000af7b6a54frow1_col0,#T_88604b82_3a18_11eb_b7fc_000af7b6a54frow1_col1,#T_88604b82_3a18_11eb_b7fc_000af7b6a54frow4_col0,#T_88604b82_3a18_11eb_b7fc_000af7b6a54frow4_col1,#T_88604b82_3a18_11eb_b7fc_000af7b6a54frow7_col0,#T_88604b82_3a18_11eb_b7fc_000af7b6a54frow7_col1,#T_88604b82_3a18_11eb_b7fc_000af7b6a54frow8_col0,#T_88604b82_3a18_11eb_b7fc_000af7b6a54frow8_col1,#T_88604b82_3a18_11eb_b7fc_000af7b6a54frow9_col0,#T_88604b82_3a18_11eb_b7fc_000af7b6a54frow9_col1,#T_88604b82_3a18_11eb_b7fc_000af7b6a54frow11_col0,#T_88604b82_3a18_11eb_b7fc_000af7b6a54frow11_col1{\n",
       "            background:  yellow;\n",
       "        }#T_88604b82_3a18_11eb_b7fc_000af7b6a54frow2_col0,#T_88604b82_3a18_11eb_b7fc_000af7b6a54frow2_col1,#T_88604b82_3a18_11eb_b7fc_000af7b6a54frow3_col0,#T_88604b82_3a18_11eb_b7fc_000af7b6a54frow3_col1,#T_88604b82_3a18_11eb_b7fc_000af7b6a54frow5_col0,#T_88604b82_3a18_11eb_b7fc_000af7b6a54frow5_col1,#T_88604b82_3a18_11eb_b7fc_000af7b6a54frow6_col0,#T_88604b82_3a18_11eb_b7fc_000af7b6a54frow6_col1,#T_88604b82_3a18_11eb_b7fc_000af7b6a54frow10_col0,#T_88604b82_3a18_11eb_b7fc_000af7b6a54frow10_col1{\n",
       "            background:  red;\n",
       "        }</style><table id=\"T_88604b82_3a18_11eb_b7fc_000af7b6a54f\" ><thead>    <tr>        <th class=\"blank level0\" ></th>        <th class=\"col_heading level0 col0\" >User score</th>        <th class=\"col_heading level0 col1\" >Predicted score</th>    </tr>    <tr>        <th class=\"index_name level0\" >Id</th>        <th class=\"blank\" ></th>        <th class=\"blank\" ></th>    </tr></thead><tbody>\n",
       "                <tr>\n",
       "                        <th id=\"T_88604b82_3a18_11eb_b7fc_000af7b6a54flevel0_row0\" class=\"row_heading level0 row0\" >5f491885298cf94b214e8f40</th>\n",
       "                        <td id=\"T_88604b82_3a18_11eb_b7fc_000af7b6a54frow0_col0\" class=\"data row0 col0\" >3</td>\n",
       "                        <td id=\"T_88604b82_3a18_11eb_b7fc_000af7b6a54frow0_col1\" class=\"data row0 col1\" >3.000000</td>\n",
       "            </tr>\n",
       "            <tr>\n",
       "                        <th id=\"T_88604b82_3a18_11eb_b7fc_000af7b6a54flevel0_row1\" class=\"row_heading level0 row1\" >5f4caa47298cf94b214e9991</th>\n",
       "                        <td id=\"T_88604b82_3a18_11eb_b7fc_000af7b6a54frow1_col0\" class=\"data row1 col0\" >6</td>\n",
       "                        <td id=\"T_88604b82_3a18_11eb_b7fc_000af7b6a54frow1_col1\" class=\"data row1 col1\" >8.000000</td>\n",
       "            </tr>\n",
       "            <tr>\n",
       "                        <th id=\"T_88604b82_3a18_11eb_b7fc_000af7b6a54flevel0_row2\" class=\"row_heading level0 row2\" >5f491c1d298cf94b214e90a4</th>\n",
       "                        <td id=\"T_88604b82_3a18_11eb_b7fc_000af7b6a54frow2_col0\" class=\"data row2 col0\" >1</td>\n",
       "                        <td id=\"T_88604b82_3a18_11eb_b7fc_000af7b6a54frow2_col1\" class=\"data row2 col1\" >4.000000</td>\n",
       "            </tr>\n",
       "            <tr>\n",
       "                        <th id=\"T_88604b82_3a18_11eb_b7fc_000af7b6a54flevel0_row3\" class=\"row_heading level0 row3\" >5f4cb652298cf94b214ea0a8</th>\n",
       "                        <td id=\"T_88604b82_3a18_11eb_b7fc_000af7b6a54frow3_col0\" class=\"data row3 col0\" >6</td>\n",
       "                        <td id=\"T_88604b82_3a18_11eb_b7fc_000af7b6a54frow3_col1\" class=\"data row3 col1\" >12.000000</td>\n",
       "            </tr>\n",
       "            <tr>\n",
       "                        <th id=\"T_88604b82_3a18_11eb_b7fc_000af7b6a54flevel0_row4\" class=\"row_heading level0 row4\" >5f4cb886298cf94b214ea3ca</th>\n",
       "                        <td id=\"T_88604b82_3a18_11eb_b7fc_000af7b6a54frow4_col0\" class=\"data row4 col0\" >8</td>\n",
       "                        <td id=\"T_88604b82_3a18_11eb_b7fc_000af7b6a54frow4_col1\" class=\"data row4 col1\" >7.000000</td>\n",
       "            </tr>\n",
       "            <tr>\n",
       "                        <th id=\"T_88604b82_3a18_11eb_b7fc_000af7b6a54flevel0_row5\" class=\"row_heading level0 row5\" >5f4629d78d62faf2c4d4e268</th>\n",
       "                        <td id=\"T_88604b82_3a18_11eb_b7fc_000af7b6a54frow5_col0\" class=\"data row5 col0\" >1</td>\n",
       "                        <td id=\"T_88604b82_3a18_11eb_b7fc_000af7b6a54frow5_col1\" class=\"data row5 col1\" >19.000000</td>\n",
       "            </tr>\n",
       "            <tr>\n",
       "                        <th id=\"T_88604b82_3a18_11eb_b7fc_000af7b6a54flevel0_row6\" class=\"row_heading level0 row6\" >5f4caa60298cf94b214e99a8</th>\n",
       "                        <td id=\"T_88604b82_3a18_11eb_b7fc_000af7b6a54frow6_col0\" class=\"data row6 col0\" >10</td>\n",
       "                        <td id=\"T_88604b82_3a18_11eb_b7fc_000af7b6a54frow6_col1\" class=\"data row6 col1\" >19.000000</td>\n",
       "            </tr>\n",
       "            <tr>\n",
       "                        <th id=\"T_88604b82_3a18_11eb_b7fc_000af7b6a54flevel0_row7\" class=\"row_heading level0 row7\" >5f4911a5298cf94b214e8967</th>\n",
       "                        <td id=\"T_88604b82_3a18_11eb_b7fc_000af7b6a54frow7_col0\" class=\"data row7 col0\" >9</td>\n",
       "                        <td id=\"T_88604b82_3a18_11eb_b7fc_000af7b6a54frow7_col1\" class=\"data row7 col1\" >7.000000</td>\n",
       "            </tr>\n",
       "            <tr>\n",
       "                        <th id=\"T_88604b82_3a18_11eb_b7fc_000af7b6a54flevel0_row8\" class=\"row_heading level0 row8\" >5f48ee847495efe38e28c50b</th>\n",
       "                        <td id=\"T_88604b82_3a18_11eb_b7fc_000af7b6a54frow8_col0\" class=\"data row8 col0\" >7</td>\n",
       "                        <td id=\"T_88604b82_3a18_11eb_b7fc_000af7b6a54frow8_col1\" class=\"data row8 col1\" >9.000000</td>\n",
       "            </tr>\n",
       "            <tr>\n",
       "                        <th id=\"T_88604b82_3a18_11eb_b7fc_000af7b6a54flevel0_row9\" class=\"row_heading level0 row9\" >5f491278298cf94b214e8b6e</th>\n",
       "                        <td id=\"T_88604b82_3a18_11eb_b7fc_000af7b6a54frow9_col0\" class=\"data row9 col0\" >4</td>\n",
       "                        <td id=\"T_88604b82_3a18_11eb_b7fc_000af7b6a54frow9_col1\" class=\"data row9 col1\" >5.000000</td>\n",
       "            </tr>\n",
       "            <tr>\n",
       "                        <th id=\"T_88604b82_3a18_11eb_b7fc_000af7b6a54flevel0_row10\" class=\"row_heading level0 row10\" >5f48ed957495efe38e28c363</th>\n",
       "                        <td id=\"T_88604b82_3a18_11eb_b7fc_000af7b6a54frow10_col0\" class=\"data row10 col0\" >7</td>\n",
       "                        <td id=\"T_88604b82_3a18_11eb_b7fc_000af7b6a54frow10_col1\" class=\"data row10 col1\" >10.000000</td>\n",
       "            </tr>\n",
       "            <tr>\n",
       "                        <th id=\"T_88604b82_3a18_11eb_b7fc_000af7b6a54flevel0_row11\" class=\"row_heading level0 row11\" >5f4cab36298cf94b214e9b52</th>\n",
       "                        <td id=\"T_88604b82_3a18_11eb_b7fc_000af7b6a54frow11_col0\" class=\"data row11 col0\" >8</td>\n",
       "                        <td id=\"T_88604b82_3a18_11eb_b7fc_000af7b6a54frow11_col1\" class=\"data row11 col1\" >10.000000</td>\n",
       "            </tr>\n",
       "    </tbody></table>"
      ],
      "text/plain": [
       "<pandas.io.formats.style.Styler at 0x7f557d280208>"
      ]
     },
     "execution_count": 11,
     "metadata": {},
     "output_type": "execute_result"
    }
   ],
   "source": [
    "# Test set\n",
    "compare_pol = y_test.copy()\n",
    "compare_pol['Predicted score'] = model.predict(x2_test).round()\n",
    "\n",
    "def highlight(val):\n",
    "    if val['User score'] == val['Predicted score']:\n",
    "        return ['background: green']*2 \n",
    "    elif val['User score'] == val['Predicted score']+1 or val['User score'] == val['Predicted score']+2:\n",
    "        return ['background: yellow']*2\n",
    "    elif val['User score'] == val['Predicted score']-1 or val['User score'] == val['Predicted score']-2:\n",
    "        return ['background: yellow']*2\n",
    "    else:\n",
    "        return ['background: red']*2\n",
    "    \n",
    "compare_pol.style.apply(highlight, axis=1)"
   ]
  },
  {
   "cell_type": "markdown",
   "metadata": {},
   "source": [
    "# Output\n",
    "\n",
    "Runs 5f491c1d298cf94b214e90a4 and 5f4629d78d62faf2c4d4e268 are extremely wrong predicted in both models. Look into them. These could be outliers. The results are not very promising, they shoot outside the bounds of 0-10 and are not very accurate. Regardless we decided to do a small experiment on this to look into it a little bit further to gain more insights as our problem owner really saw potential in the idea. "
   ]
  },
  {
   "cell_type": "code",
   "execution_count": null,
   "metadata": {},
   "outputs": [],
   "source": []
  }
 ],
 "metadata": {
  "kernelspec": {
   "display_name": "Python 3",
   "language": "python",
   "name": "python3"
  },
  "language_info": {
   "codemirror_mode": {
    "name": "ipython",
    "version": 3
   },
   "file_extension": ".py",
   "mimetype": "text/x-python",
   "name": "python",
   "nbconvert_exporter": "python",
   "pygments_lexer": "ipython3",
   "version": "3.6.10"
  }
 },
 "nbformat": 4,
 "nbformat_minor": 4
}
