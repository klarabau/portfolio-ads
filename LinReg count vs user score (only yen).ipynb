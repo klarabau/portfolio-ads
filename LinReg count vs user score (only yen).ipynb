{
 "cells": [
  {
   "cell_type": "code",
   "execution_count": 1,
   "metadata": {},
   "outputs": [],
   "source": [
    "# Importing libraries \n",
    "import pandas as pd\n",
    "import matplotlib.pyplot as plt\n",
    "import numpy as np\n",
    "from ml import *\n",
    "from sklearn.preprocessing import PolynomialFeatures"
   ]
  },
  {
   "cell_type": "code",
   "execution_count": 2,
   "metadata": {},
   "outputs": [],
   "source": [
    "# Creating dataframe \n",
    "df = pd.read_csv('Target variable & features.csv')"
   ]
  },
  {
   "cell_type": "code",
   "execution_count": 3,
   "metadata": {},
   "outputs": [
    {
     "data": {
      "text/html": [
       "<div>\n",
       "<style scoped>\n",
       "    .dataframe tbody tr th:only-of-type {\n",
       "        vertical-align: middle;\n",
       "    }\n",
       "\n",
       "    .dataframe tbody tr th {\n",
       "        vertical-align: top;\n",
       "    }\n",
       "\n",
       "    .dataframe thead th {\n",
       "        text-align: right;\n",
       "    }\n",
       "</style>\n",
       "<table border=\"1\" class=\"dataframe\">\n",
       "  <thead>\n",
       "    <tr style=\"text-align: right;\">\n",
       "      <th></th>\n",
       "      <th>Unnamed: 0</th>\n",
       "      <th>Threshold method</th>\n",
       "      <th>Threshold: area spread</th>\n",
       "      <th>Threshold: border</th>\n",
       "      <th>Threshold: count</th>\n",
       "      <th>Threshold: fill</th>\n",
       "      <th>Threshold: intensity</th>\n",
       "      <th>Threshold: separation</th>\n",
       "      <th>User score</th>\n",
       "    </tr>\n",
       "  </thead>\n",
       "  <tbody>\n",
       "    <tr>\n",
       "      <th>0</th>\n",
       "      <td>0</td>\n",
       "      <td>yen</td>\n",
       "      <td>0.265214</td>\n",
       "      <td>1.866963</td>\n",
       "      <td>13.192785</td>\n",
       "      <td>0.215541</td>\n",
       "      <td>1.711409</td>\n",
       "      <td>0.106493</td>\n",
       "      <td>9</td>\n",
       "    </tr>\n",
       "    <tr>\n",
       "      <th>1</th>\n",
       "      <td>1</td>\n",
       "      <td>minimum</td>\n",
       "      <td>0.601553</td>\n",
       "      <td>1.119458</td>\n",
       "      <td>91.000000</td>\n",
       "      <td>0.541977</td>\n",
       "      <td>1.062500</td>\n",
       "      <td>0.018770</td>\n",
       "      <td>1</td>\n",
       "    </tr>\n",
       "    <tr>\n",
       "      <th>2</th>\n",
       "      <td>2</td>\n",
       "      <td>yen</td>\n",
       "      <td>0.154306</td>\n",
       "      <td>5.648380</td>\n",
       "      <td>0.010033</td>\n",
       "      <td>0.184900</td>\n",
       "      <td>4.396552</td>\n",
       "      <td>0.355659</td>\n",
       "      <td>4</td>\n",
       "    </tr>\n",
       "    <tr>\n",
       "      <th>3</th>\n",
       "      <td>3</td>\n",
       "      <td>yen</td>\n",
       "      <td>0.012426</td>\n",
       "      <td>1.814439</td>\n",
       "      <td>2.246626</td>\n",
       "      <td>0.184488</td>\n",
       "      <td>1.734694</td>\n",
       "      <td>0.139754</td>\n",
       "      <td>1</td>\n",
       "    </tr>\n",
       "    <tr>\n",
       "      <th>4</th>\n",
       "      <td>4</td>\n",
       "      <td>yen</td>\n",
       "      <td>0.408562</td>\n",
       "      <td>4.563709</td>\n",
       "      <td>0.019553</td>\n",
       "      <td>0.220224</td>\n",
       "      <td>2.833333</td>\n",
       "      <td>0.162283</td>\n",
       "      <td>2</td>\n",
       "    </tr>\n",
       "    <tr>\n",
       "      <th>...</th>\n",
       "      <td>...</td>\n",
       "      <td>...</td>\n",
       "      <td>...</td>\n",
       "      <td>...</td>\n",
       "      <td>...</td>\n",
       "      <td>...</td>\n",
       "      <td>...</td>\n",
       "      <td>...</td>\n",
       "      <td>...</td>\n",
       "    </tr>\n",
       "    <tr>\n",
       "      <th>144</th>\n",
       "      <td>144</td>\n",
       "      <td>yen</td>\n",
       "      <td>0.800244</td>\n",
       "      <td>1.757421</td>\n",
       "      <td>9.000000</td>\n",
       "      <td>1.000000</td>\n",
       "      <td>2.431401</td>\n",
       "      <td>0.082923</td>\n",
       "      <td>2</td>\n",
       "    </tr>\n",
       "    <tr>\n",
       "      <th>145</th>\n",
       "      <td>145</td>\n",
       "      <td>yen</td>\n",
       "      <td>0.800244</td>\n",
       "      <td>1.757421</td>\n",
       "      <td>9.000000</td>\n",
       "      <td>1.000000</td>\n",
       "      <td>2.431401</td>\n",
       "      <td>0.082923</td>\n",
       "      <td>2</td>\n",
       "    </tr>\n",
       "    <tr>\n",
       "      <th>146</th>\n",
       "      <td>146</td>\n",
       "      <td>triangle</td>\n",
       "      <td>1.184838</td>\n",
       "      <td>2.893748</td>\n",
       "      <td>67.500000</td>\n",
       "      <td>0.588592</td>\n",
       "      <td>5.375511</td>\n",
       "      <td>0.067293</td>\n",
       "      <td>5</td>\n",
       "    </tr>\n",
       "    <tr>\n",
       "      <th>147</th>\n",
       "      <td>147</td>\n",
       "      <td>yen</td>\n",
       "      <td>0.079468</td>\n",
       "      <td>10.559311</td>\n",
       "      <td>2.823232</td>\n",
       "      <td>0.197917</td>\n",
       "      <td>7.083333</td>\n",
       "      <td>0.433293</td>\n",
       "      <td>5</td>\n",
       "    </tr>\n",
       "    <tr>\n",
       "      <th>148</th>\n",
       "      <td>148</td>\n",
       "      <td>li</td>\n",
       "      <td>0.826347</td>\n",
       "      <td>5.753698</td>\n",
       "      <td>3.506667</td>\n",
       "      <td>0.238109</td>\n",
       "      <td>3.984375</td>\n",
       "      <td>0.363274</td>\n",
       "      <td>8</td>\n",
       "    </tr>\n",
       "  </tbody>\n",
       "</table>\n",
       "<p>149 rows × 9 columns</p>\n",
       "</div>"
      ],
      "text/plain": [
       "     Unnamed: 0 Threshold method  Threshold: area spread  Threshold: border  \\\n",
       "0             0              yen                0.265214           1.866963   \n",
       "1             1          minimum                0.601553           1.119458   \n",
       "2             2              yen                0.154306           5.648380   \n",
       "3             3              yen                0.012426           1.814439   \n",
       "4             4              yen                0.408562           4.563709   \n",
       "..          ...              ...                     ...                ...   \n",
       "144         144              yen                0.800244           1.757421   \n",
       "145         145              yen                0.800244           1.757421   \n",
       "146         146         triangle                1.184838           2.893748   \n",
       "147         147              yen                0.079468          10.559311   \n",
       "148         148               li                0.826347           5.753698   \n",
       "\n",
       "     Threshold: count  Threshold: fill  Threshold: intensity  \\\n",
       "0           13.192785         0.215541              1.711409   \n",
       "1           91.000000         0.541977              1.062500   \n",
       "2            0.010033         0.184900              4.396552   \n",
       "3            2.246626         0.184488              1.734694   \n",
       "4            0.019553         0.220224              2.833333   \n",
       "..                ...              ...                   ...   \n",
       "144          9.000000         1.000000              2.431401   \n",
       "145          9.000000         1.000000              2.431401   \n",
       "146         67.500000         0.588592              5.375511   \n",
       "147          2.823232         0.197917              7.083333   \n",
       "148          3.506667         0.238109              3.984375   \n",
       "\n",
       "     Threshold: separation  User score  \n",
       "0                 0.106493           9  \n",
       "1                 0.018770           1  \n",
       "2                 0.355659           4  \n",
       "3                 0.139754           1  \n",
       "4                 0.162283           2  \n",
       "..                     ...         ...  \n",
       "144               0.082923           2  \n",
       "145               0.082923           2  \n",
       "146               0.067293           5  \n",
       "147               0.433293           5  \n",
       "148               0.363274           8  \n",
       "\n",
       "[149 rows x 9 columns]"
      ]
     },
     "execution_count": 3,
     "metadata": {},
     "output_type": "execute_result"
    }
   ],
   "source": [
    "# Extract only yen values\n",
    "df_yen = df[df['Threshold method'] =='yen']\n",
    "df"
   ]
  },
  {
   "cell_type": "code",
   "execution_count": 4,
   "metadata": {},
   "outputs": [],
   "source": [
    "# Specifying x and y\n",
    "X = df_yen[['Threshold: count']]\n",
    "y = df_yen[['User score']]"
   ]
  },
  {
   "cell_type": "code",
   "execution_count": 5,
   "metadata": {},
   "outputs": [
    {
     "data": {
      "image/png": "[encoded data removed]",
      "text/plain": [
       "<Figure size 432x288 with 1 Axes>"
      ]
     },
     "metadata": {
      "needs_background": "light"
     },
     "output_type": "display_data"
    }
   ],
   "source": [
    "# Plotting data\n",
    "df_yen.plot(kind='scatter', x='Threshold: count', y='User score', title='User score vs. count of particles')\n",
    "plt.show()"
   ]
  },
  {
   "cell_type": "code",
   "execution_count": 6,
   "metadata": {},
   "outputs": [
    {
     "data": {
      "text/plain": [
       "LinearRegression()"
      ]
     },
     "execution_count": 6,
     "metadata": {},
     "output_type": "execute_result"
    }
   ],
   "source": [
    "# Creating model\n",
    "model = LinearRegression()\n",
    "model.fit(X, y)"
   ]
  },
  {
   "cell_type": "code",
   "execution_count": 7,
   "metadata": {},
   "outputs": [
    {
     "data": {
      "image/png": "[encoded data removed]",
      "text/plain": [
       "<Figure size 432x288 with 1 Axes>"
      ]
     },
     "metadata": {
      "needs_background": "light"
     },
     "output_type": "display_data"
    }
   ],
   "source": [
    "# Visualizing model\n",
    "df_yen.plot(kind='scatter', x='Threshold: count', y='User score', title='User score vs. count of particles')\n",
    "plt.scatter(X, model.predict(X), c='orange')\n",
    "plt.show()"
   ]
  },
  {
   "cell_type": "code",
   "execution_count": 8,
   "metadata": {},
   "outputs": [
    {
     "data": {
      "image/png": "[encoded data removed]",
      "text/plain": [
       "<Figure size 432x288 with 1 Axes>"
      ]
     },
     "metadata": {
      "needs_background": "light"
     },
     "output_type": "display_data"
    }
   ],
   "source": [
    "# Magnifyer\n",
    "df_yen.plot(kind='scatter', x='Threshold: count', y='User score', title='User score vs. count of particles')\n",
    "plt.scatter(X, model.predict(X), c='orange')\n",
    "plt.xlim(0,50)\n",
    "plt.show()"
   ]
  },
  {
   "cell_type": "code",
   "execution_count": 9,
   "metadata": {},
   "outputs": [],
   "source": [
    "# Creating 2nd order\n",
    "poly = PolynomialFeatures(degree=2, include_bias=False)\n",
    "X2 = poly.fit_transform(X)"
   ]
  },
  {
   "cell_type": "code",
   "execution_count": 10,
   "metadata": {},
   "outputs": [
    {
     "data": {
      "text/plain": [
       "LinearRegression()"
      ]
     },
     "execution_count": 10,
     "metadata": {},
     "output_type": "execute_result"
    }
   ],
   "source": [
    "# Creating 2nd order model\n",
    "model = LinearRegression()\n",
    "model.fit(X2, y)"
   ]
  },
  {
   "cell_type": "code",
   "execution_count": 11,
   "metadata": {},
   "outputs": [
    {
     "data": {
      "image/png": "[encoded data removed]",
      "text/plain": [
       "<Figure size 432x288 with 1 Axes>"
      ]
     },
     "metadata": {
      "needs_background": "light"
     },
     "output_type": "display_data"
    }
   ],
   "source": [
    "# Visualizing 2nd order model\n",
    "df_yen.plot(kind='scatter', x='Threshold: count', y='User score', title='User score vs. count of particles')\n",
    "plt.scatter(X, model.predict(X2), c='orange')\n",
    "plt.show()"
   ]
  },
  {
   "cell_type": "code",
   "execution_count": 12,
   "metadata": {},
   "outputs": [
    {
     "data": {
      "image/png": "[encoded data removed]",
      "text/plain": [
       "<Figure size 432x288 with 1 Axes>"
      ]
     },
     "metadata": {
      "needs_background": "light"
     },
     "output_type": "display_data"
    }
   ],
   "source": [
    "# Magnifyer\n",
    "df_yen.plot(kind='scatter', x='Threshold: count', y='User score', title='User score vs. count of particles')\n",
    "plt.scatter(X, model.predict(X2), c='orange')\n",
    "plt.xlim(0,50)\n",
    "plt.show()"
   ]
  },
  {
   "cell_type": "code",
   "execution_count": 13,
   "metadata": {},
   "outputs": [],
   "source": [
    "# Creating 3rd order\n",
    "poly = PolynomialFeatures(degree=3, include_bias=False)\n",
    "X3 = poly.fit_transform(X)"
   ]
  },
  {
   "cell_type": "code",
   "execution_count": 14,
   "metadata": {},
   "outputs": [
    {
     "data": {
      "text/plain": [
       "LinearRegression()"
      ]
     },
     "execution_count": 14,
     "metadata": {},
     "output_type": "execute_result"
    }
   ],
   "source": [
    "# Creating 3rd order model\n",
    "model = LinearRegression()\n",
    "model.fit(X3, y)"
   ]
  },
  {
   "cell_type": "code",
   "execution_count": 15,
   "metadata": {},
   "outputs": [
    {
     "data": {
      "image/png": "[encoded data removed]",
      "text/plain": [
       "<Figure size 432x288 with 1 Axes>"
      ]
     },
     "metadata": {
      "needs_background": "light"
     },
     "output_type": "display_data"
    }
   ],
   "source": [
    "# Visualizing 3rd order model\n",
    "df_yen.plot(kind='scatter', x='Threshold: count', y='User score', title='User score vs. count of particles')\n",
    "plt.scatter(X, model.predict(X3), c='orange')\n",
    "plt.show()"
   ]
  },
  {
   "cell_type": "code",
   "execution_count": 16,
   "metadata": {},
   "outputs": [
    {
     "data": {
      "image/png": "[encoded data removed]",
      "text/plain": [
       "<Figure size 432x288 with 1 Axes>"
      ]
     },
     "metadata": {
      "needs_background": "light"
     },
     "output_type": "display_data"
    }
   ],
   "source": [
    "# Magnifyer\n",
    "df_yen.plot(kind='scatter', x='Threshold: count', y='User score', title='User score vs. count of particles')\n",
    "plt.scatter(X, model.predict(X3), c='orange')\n",
    "plt.xlim(0,50)\n",
    "plt.show()"
   ]
  },
  {
   "cell_type": "code",
   "execution_count": 17,
   "metadata": {},
   "outputs": [],
   "source": [
    "# Creating 4th order\n",
    "poly = PolynomialFeatures(degree=4, include_bias=False)\n",
    "X4 = poly.fit_transform(X)"
   ]
  },
  {
   "cell_type": "code",
   "execution_count": 18,
   "metadata": {},
   "outputs": [
    {
     "data": {
      "text/plain": [
       "LinearRegression()"
      ]
     },
     "execution_count": 18,
     "metadata": {},
     "output_type": "execute_result"
    }
   ],
   "source": [
    "# Creating 4th order model\n",
    "model = LinearRegression()\n",
    "model.fit(X4, y)"
   ]
  },
  {
   "cell_type": "code",
   "execution_count": 19,
   "metadata": {},
   "outputs": [
    {
     "data": {
      "image/png": "[encoded data removed]",
      "text/plain": [
       "<Figure size 432x288 with 1 Axes>"
      ]
     },
     "metadata": {
      "needs_background": "light"
     },
     "output_type": "display_data"
    }
   ],
   "source": [
    "# Visualizing 4th order model\n",
    "df_yen.plot(kind='scatter', x='Threshold: count', y='User score', title='User score vs. count of particles')\n",
    "plt.scatter(X, model.predict(X4), c='orange')\n",
    "plt.show()"
   ]
  },
  {
   "cell_type": "code",
   "execution_count": 20,
   "metadata": {},
   "outputs": [
    {
     "data": {
      "image/png": "[encoded data removed]",
      "text/plain": [
       "<Figure size 432x288 with 1 Axes>"
      ]
     },
     "metadata": {
      "needs_background": "light"
     },
     "output_type": "display_data"
    }
   ],
   "source": [
    "# Magnifyer\n",
    "df_yen.plot(kind='scatter', x='Threshold: count', y='User score', title='User score vs. count of particles')\n",
    "plt.scatter(X, model.predict(X4), c='orange')\n",
    "plt.xlim(0,50)\n",
    "plt.show()"
   ]
  },
  {
   "cell_type": "code",
   "execution_count": 21,
   "metadata": {},
   "outputs": [
    {
     "data": {
      "text/plain": [
       "array([[-0.00214198,  0.0000267 , -0.00000001, -0.        ]])"
      ]
     },
     "execution_count": 21,
     "metadata": {},
     "output_type": "execute_result"
    }
   ],
   "source": [
    "model.coef_"
   ]
  },
  {
   "cell_type": "code",
   "execution_count": 23,
   "metadata": {},
   "outputs": [
    {
     "data": {
      "text/plain": [
       "array([5.15661302])"
      ]
     },
     "execution_count": 23,
     "metadata": {},
     "output_type": "execute_result"
    }
   ],
   "source": [
    "model.intercept_"
   ]
  },
  {
   "cell_type": "code",
   "execution_count": 24,
   "metadata": {},
   "outputs": [
    {
     "data": {
      "text/plain": [
       "User score    5.3125\n",
       "dtype: float64"
      ]
     },
     "execution_count": 24,
     "metadata": {},
     "output_type": "execute_result"
    }
   ],
   "source": [
    "y.sum()/len(y)"
   ]
  },
  {
   "cell_type": "code",
   "execution_count": null,
   "metadata": {},
   "outputs": [],
   "source": []
  }
 ],
 "metadata": {
  "kernelspec": {
   "display_name": "Python 3",
   "language": "python",
   "name": "python3"
  },
  "language_info": {
   "codemirror_mode": {
    "name": "ipython",
    "version": 3
   },
   "file_extension": ".py",
   "mimetype": "text/x-python",
   "name": "python",
   "nbconvert_exporter": "python",
   "pygments_lexer": "ipython3",
   "version": "3.6.10"
  }
 },
 "nbformat": 4,
 "nbformat_minor": 4
}
